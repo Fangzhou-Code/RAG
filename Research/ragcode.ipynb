{
 "cells": [
  {
   "cell_type": "code",
   "execution_count": 2,
   "metadata": {},
   "outputs": [
    {
     "name": "stderr",
     "output_type": "stream",
     "text": [
      "d:\\Anaconda\\envs\\RAG\\lib\\site-packages\\tqdm\\auto.py:21: TqdmWarning: IProgress not found. Please update jupyter and ipywidgets. See https://ipywidgets.readthedocs.io/en/stable/user_install.html\n",
      "  from .autonotebook import tqdm as notebook_tqdm\n"
     ]
    },
    {
     "data": {
      "text/plain": [
       "True"
      ]
     },
     "execution_count": 2,
     "metadata": {},
     "output_type": "execute_result"
    }
   ],
   "source": [
    "from git import Repo\n",
    "from langchain_community.document_loaders.generic import GenericLoader\n",
    "from langchain_community.document_loaders.parsers import LanguageParser\n",
    "from langchain_text_splitters import Language\n",
    "from typing import List\n",
    "from langchain_text_splitters import RecursiveCharacterTextSplitter\n",
    "from langchain_chroma import Chroma\n",
    "from langchain_openai import OpenAIEmbeddings\n",
    "from sentence_transformers import SentenceTransformer\n",
    "from LocalEmbedding import LocalEmbeddings\n",
    "from langchain.chains import create_history_aware_retriever, create_retrieval_chain\n",
    "from langchain.chains.combine_documents import create_stuff_documents_chain\n",
    "from langchain_core.prompts import ChatPromptTemplate\n",
    "from langchain_ollama import ChatOllama\n",
    "import os\n",
    "from dotenv import load_dotenv\n",
    "from concurrent.futures import ThreadPoolExecutor, as_completed\n",
    "from tqdm import tqdm\n",
    "import logging\n",
    "import random\n",
    "import math\n",
    "\n",
    "def get_env_variable(var_name: str) -> str:\n",
    "    \"\"\"\n",
    "    获取环境变量的值，如果环境变量不存在则抛出异常\n",
    "\n",
    "    Args:\n",
    "    var_name (str): 环境变量名称\n",
    "\n",
    "    Returns:\n",
    "    str: 环境变量的值\n",
    "\n",
    "    Raises:\n",
    "    ValueError: 如果环境变量未设置\n",
    "    \"\"\"\n",
    "    value = os.getenv(var_name)\n",
    "    if value is None:\n",
    "        raise ValueError(f\"环境变量 '{var_name}' 未设置\")\n",
    "    return value\n",
    "\n",
    "\n",
    "# 加载.env文件中的环境变量\n",
    "load_dotenv() "
   ]
  },
  {
   "cell_type": "code",
   "execution_count": 3,
   "metadata": {},
   "outputs": [
    {
     "name": "stdout",
     "output_type": "stream",
     "text": [
      "总共有 800 个子文件夹。\n",
      "随机选取了 320 个子文件夹进行读取。\n",
      "正在处理文件夹: D:/Project/data/Project_CodeNet_Python800\\p04033\n"
     ]
    },
    {
     "name": "stderr",
     "output_type": "stream",
     "text": [
      "100%|██████████| 300/300 [00:00<00:00, 1300.47it/s]\n"
     ]
    },
    {
     "name": "stdout",
     "output_type": "stream",
     "text": [
      "文件夹 D:/Project/data/Project_CodeNet_Python800\\p04033 中加载了 300 个文档。\n",
      "正在处理文件夹: D:/Project/data/Project_CodeNet_Python800\\p02842\n"
     ]
    },
    {
     "name": "stderr",
     "output_type": "stream",
     "text": [
      "100%|██████████| 300/300 [00:00<00:00, 3868.67it/s]\n"
     ]
    },
    {
     "name": "stdout",
     "output_type": "stream",
     "text": [
      "文件夹 D:/Project/data/Project_CodeNet_Python800\\p02842 中加载了 300 个文档。\n",
      "正在处理文件夹: D:/Project/data/Project_CodeNet_Python800\\p00007\n"
     ]
    },
    {
     "name": "stderr",
     "output_type": "stream",
     "text": [
      "100%|██████████| 300/300 [00:00<00:00, 3894.91it/s]\n"
     ]
    },
    {
     "name": "stdout",
     "output_type": "stream",
     "text": [
      "文件夹 D:/Project/data/Project_CodeNet_Python800\\p00007 中加载了 300 个文档。\n",
      "正在处理文件夹: D:/Project/data/Project_CodeNet_Python800\\p03777\n"
     ]
    },
    {
     "name": "stderr",
     "output_type": "stream",
     "text": [
      "100%|██████████| 300/300 [00:00<00:00, 3260.54it/s]\n"
     ]
    },
    {
     "name": "stdout",
     "output_type": "stream",
     "text": [
      "文件夹 D:/Project/data/Project_CodeNet_Python800\\p03777 中加载了 300 个文档。\n",
      "正在处理文件夹: D:/Project/data/Project_CodeNet_Python800\\p03075\n"
     ]
    },
    {
     "name": "stderr",
     "output_type": "stream",
     "text": [
      "100%|██████████| 300/300 [00:00<00:00, 4078.95it/s]\n"
     ]
    },
    {
     "name": "stdout",
     "output_type": "stream",
     "text": [
      "文件夹 D:/Project/data/Project_CodeNet_Python800\\p03075 中加载了 300 个文档。\n",
      "正在处理文件夹: D:/Project/data/Project_CodeNet_Python800\\p03488\n"
     ]
    },
    {
     "name": "stderr",
     "output_type": "stream",
     "text": [
      "100%|██████████| 300/300 [00:00<00:00, 3970.68it/s]\n"
     ]
    },
    {
     "name": "stdout",
     "output_type": "stream",
     "text": [
      "文件夹 D:/Project/data/Project_CodeNet_Python800\\p03488 中加载了 300 个文档。\n",
      "正在处理文件夹: D:/Project/data/Project_CodeNet_Python800\\p02742\n"
     ]
    },
    {
     "name": "stderr",
     "output_type": "stream",
     "text": [
      "100%|██████████| 300/300 [00:00<00:00, 3786.83it/s]\n"
     ]
    },
    {
     "name": "stdout",
     "output_type": "stream",
     "text": [
      "文件夹 D:/Project/data/Project_CodeNet_Python800\\p02742 中加载了 300 个文档。\n",
      "正在处理文件夹: D:/Project/data/Project_CodeNet_Python800\\p03386\n"
     ]
    },
    {
     "name": "stderr",
     "output_type": "stream",
     "text": [
      "100%|██████████| 300/300 [00:00<00:00, 4107.43it/s]\n"
     ]
    },
    {
     "name": "stdout",
     "output_type": "stream",
     "text": [
      "文件夹 D:/Project/data/Project_CodeNet_Python800\\p03386 中加载了 300 个文档。\n",
      "正在处理文件夹: D:/Project/data/Project_CodeNet_Python800\\p03044\n"
     ]
    },
    {
     "name": "stderr",
     "output_type": "stream",
     "text": [
      "100%|██████████| 300/300 [00:00<00:00, 4054.19it/s]\n"
     ]
    },
    {
     "name": "stdout",
     "output_type": "stream",
     "text": [
      "文件夹 D:/Project/data/Project_CodeNet_Python800\\p03044 中加载了 300 个文档。\n",
      "正在处理文件夹: D:/Project/data/Project_CodeNet_Python800\\p02724\n"
     ]
    },
    {
     "name": "stderr",
     "output_type": "stream",
     "text": [
      "100%|██████████| 300/300 [00:00<00:00, 3895.88it/s]\n"
     ]
    },
    {
     "name": "stdout",
     "output_type": "stream",
     "text": [
      "文件夹 D:/Project/data/Project_CodeNet_Python800\\p02724 中加载了 300 个文档。\n",
      "正在处理文件夹: D:/Project/data/Project_CodeNet_Python800\\p03469\n"
     ]
    },
    {
     "name": "stderr",
     "output_type": "stream",
     "text": [
      "100%|██████████| 300/300 [00:00<00:00, 4054.28it/s]\n"
     ]
    },
    {
     "name": "stdout",
     "output_type": "stream",
     "text": [
      "文件夹 D:/Project/data/Project_CodeNet_Python800\\p03469 中加载了 300 个文档。\n",
      "正在处理文件夹: D:/Project/data/Project_CodeNet_Python800\\p02596\n"
     ]
    },
    {
     "name": "stderr",
     "output_type": "stream",
     "text": [
      "100%|██████████| 300/300 [00:00<00:00, 3903.37it/s]\n"
     ]
    },
    {
     "name": "stdout",
     "output_type": "stream",
     "text": [
      "文件夹 D:/Project/data/Project_CodeNet_Python800\\p02596 中加载了 300 个文档。\n",
      "正在处理文件夹: D:/Project/data/Project_CodeNet_Python800\\p03031\n"
     ]
    },
    {
     "name": "stderr",
     "output_type": "stream",
     "text": [
      "100%|██████████| 300/300 [00:00<00:00, 3947.51it/s]\n"
     ]
    },
    {
     "name": "stdout",
     "output_type": "stream",
     "text": [
      "文件夹 D:/Project/data/Project_CodeNet_Python800\\p03031 中加载了 300 个文档。\n",
      "正在处理文件夹: D:/Project/data/Project_CodeNet_Python800\\p03611\n"
     ]
    },
    {
     "name": "stderr",
     "output_type": "stream",
     "text": [
      "100%|██████████| 300/300 [00:00<00:00, 4060.75it/s]\n"
     ]
    },
    {
     "name": "stdout",
     "output_type": "stream",
     "text": [
      "文件夹 D:/Project/data/Project_CodeNet_Python800\\p03611 中加载了 300 个文档。\n",
      "正在处理文件夹: D:/Project/data/Project_CodeNet_Python800\\p03251\n"
     ]
    },
    {
     "name": "stderr",
     "output_type": "stream",
     "text": [
      "100%|██████████| 300/300 [00:00<00:00, 3820.64it/s]\n"
     ]
    },
    {
     "name": "stdout",
     "output_type": "stream",
     "text": [
      "文件夹 D:/Project/data/Project_CodeNet_Python800\\p03251 中加载了 300 个文档。\n",
      "正在处理文件夹: D:/Project/data/Project_CodeNet_Python800\\p03200\n"
     ]
    },
    {
     "name": "stderr",
     "output_type": "stream",
     "text": [
      "100%|██████████| 300/300 [00:00<00:00, 4108.87it/s]\n"
     ]
    },
    {
     "name": "stdout",
     "output_type": "stream",
     "text": [
      "文件夹 D:/Project/data/Project_CodeNet_Python800\\p03200 中加载了 300 个文档。\n",
      "正在处理文件夹: D:/Project/data/Project_CodeNet_Python800\\p03797\n"
     ]
    },
    {
     "name": "stderr",
     "output_type": "stream",
     "text": [
      "100%|██████████| 300/300 [00:00<00:00, 3389.23it/s]\n"
     ]
    },
    {
     "name": "stdout",
     "output_type": "stream",
     "text": [
      "文件夹 D:/Project/data/Project_CodeNet_Python800\\p03797 中加载了 300 个文档。\n",
      "正在处理文件夹: D:/Project/data/Project_CodeNet_Python800\\p02705\n"
     ]
    },
    {
     "name": "stderr",
     "output_type": "stream",
     "text": [
      "100%|██████████| 300/300 [00:00<00:00, 4087.63it/s]\n"
     ]
    },
    {
     "name": "stdout",
     "output_type": "stream",
     "text": [
      "文件夹 D:/Project/data/Project_CodeNet_Python800\\p02705 中加载了 300 个文档。\n",
      "正在处理文件夹: D:/Project/data/Project_CodeNet_Python800\\p03729\n"
     ]
    },
    {
     "name": "stderr",
     "output_type": "stream",
     "text": [
      "100%|██████████| 300/300 [00:00<00:00, 4125.60it/s]\n"
     ]
    },
    {
     "name": "stdout",
     "output_type": "stream",
     "text": [
      "文件夹 D:/Project/data/Project_CodeNet_Python800\\p03729 中加载了 300 个文档。\n",
      "正在处理文件夹: D:/Project/data/Project_CodeNet_Python800\\p03303\n"
     ]
    },
    {
     "name": "stderr",
     "output_type": "stream",
     "text": [
      "100%|██████████| 300/300 [00:00<00:00, 4126.82it/s]\n"
     ]
    },
    {
     "name": "stdout",
     "output_type": "stream",
     "text": [
      "文件夹 D:/Project/data/Project_CodeNet_Python800\\p03303 中加载了 300 个文档。\n",
      "正在处理文件夹: D:/Project/data/Project_CodeNet_Python800\\p02913\n"
     ]
    },
    {
     "name": "stderr",
     "output_type": "stream",
     "text": [
      "100%|██████████| 300/300 [00:00<00:00, 3947.41it/s]\n"
     ]
    },
    {
     "name": "stdout",
     "output_type": "stream",
     "text": [
      "文件夹 D:/Project/data/Project_CodeNet_Python800\\p02913 中加载了 300 个文档。\n",
      "正在处理文件夹: D:/Project/data/Project_CodeNet_Python800\\p03370\n"
     ]
    },
    {
     "name": "stderr",
     "output_type": "stream",
     "text": [
      "100%|██████████| 300/300 [00:00<00:00, 3582.36it/s]\n"
     ]
    },
    {
     "name": "stdout",
     "output_type": "stream",
     "text": [
      "文件夹 D:/Project/data/Project_CodeNet_Python800\\p03370 中加载了 300 个文档。\n",
      "正在处理文件夹: D:/Project/data/Project_CodeNet_Python800\\p02394\n"
     ]
    },
    {
     "name": "stderr",
     "output_type": "stream",
     "text": [
      "100%|██████████| 300/300 [00:00<00:00, 1534.28it/s]\n"
     ]
    },
    {
     "name": "stdout",
     "output_type": "stream",
     "text": [
      "文件夹 D:/Project/data/Project_CodeNet_Python800\\p02394 中加载了 300 个文档。\n",
      "正在处理文件夹: D:/Project/data/Project_CodeNet_Python800\\p03061\n"
     ]
    },
    {
     "name": "stderr",
     "output_type": "stream",
     "text": [
      "100%|██████████| 300/300 [00:00<00:00, 3528.93it/s]\n"
     ]
    },
    {
     "name": "stdout",
     "output_type": "stream",
     "text": [
      "文件夹 D:/Project/data/Project_CodeNet_Python800\\p03061 中加载了 300 个文档。\n",
      "正在处理文件夹: D:/Project/data/Project_CodeNet_Python800\\p03555\n"
     ]
    },
    {
     "name": "stderr",
     "output_type": "stream",
     "text": [
      "100%|██████████| 300/300 [00:00<00:00, 4050.28it/s]\n"
     ]
    },
    {
     "name": "stdout",
     "output_type": "stream",
     "text": [
      "文件夹 D:/Project/data/Project_CodeNet_Python800\\p03555 中加载了 300 个文档。\n",
      "正在处理文件夹: D:/Project/data/Project_CodeNet_Python800\\p02409\n"
     ]
    },
    {
     "name": "stderr",
     "output_type": "stream",
     "text": [
      "100%|██████████| 300/300 [00:00<00:00, 4067.57it/s]\n"
     ]
    },
    {
     "name": "stdout",
     "output_type": "stream",
     "text": [
      "文件夹 D:/Project/data/Project_CodeNet_Python800\\p02409 中加载了 300 个文档。\n",
      "正在处理文件夹: D:/Project/data/Project_CodeNet_Python800\\p03567\n"
     ]
    },
    {
     "name": "stderr",
     "output_type": "stream",
     "text": [
      "100%|██████████| 300/300 [00:00<00:00, 4021.85it/s]\n"
     ]
    },
    {
     "name": "stdout",
     "output_type": "stream",
     "text": [
      "文件夹 D:/Project/data/Project_CodeNet_Python800\\p03567 中加载了 300 个文档。\n",
      "正在处理文件夹: D:/Project/data/Project_CodeNet_Python800\\p02925\n"
     ]
    },
    {
     "name": "stderr",
     "output_type": "stream",
     "text": [
      "100%|██████████| 300/300 [00:00<00:00, 3489.47it/s]\n"
     ]
    },
    {
     "name": "stdout",
     "output_type": "stream",
     "text": [
      "文件夹 D:/Project/data/Project_CodeNet_Python800\\p02925 中加载了 300 个文档。\n",
      "正在处理文件夹: D:/Project/data/Project_CodeNet_Python800\\p03354\n"
     ]
    },
    {
     "name": "stderr",
     "output_type": "stream",
     "text": [
      "100%|██████████| 300/300 [00:00<00:00, 3846.20it/s]\n"
     ]
    },
    {
     "name": "stdout",
     "output_type": "stream",
     "text": [
      "文件夹 D:/Project/data/Project_CodeNet_Python800\\p03354 中加载了 300 个文档。\n",
      "正在处理文件夹: D:/Project/data/Project_CodeNet_Python800\\p02627\n"
     ]
    },
    {
     "name": "stderr",
     "output_type": "stream",
     "text": [
      "100%|██████████| 300/300 [00:00<00:00, 2905.20it/s]\n"
     ]
    },
    {
     "name": "stdout",
     "output_type": "stream",
     "text": [
      "文件夹 D:/Project/data/Project_CodeNet_Python800\\p02627 中加载了 300 个文档。\n",
      "正在处理文件夹: D:/Project/data/Project_CodeNet_Python800\\p02381\n"
     ]
    },
    {
     "name": "stderr",
     "output_type": "stream",
     "text": [
      "100%|██████████| 300/300 [00:00<00:00, 3703.62it/s]\n"
     ]
    },
    {
     "name": "stdout",
     "output_type": "stream",
     "text": [
      "文件夹 D:/Project/data/Project_CodeNet_Python800\\p02381 中加载了 300 个文档。\n",
      "正在处理文件夹: D:/Project/data/Project_CodeNet_Python800\\p02413\n"
     ]
    },
    {
     "name": "stderr",
     "output_type": "stream",
     "text": [
      "100%|██████████| 300/300 [00:00<00:00, 4166.98it/s]\n"
     ]
    },
    {
     "name": "stdout",
     "output_type": "stream",
     "text": [
      "文件夹 D:/Project/data/Project_CodeNet_Python800\\p02413 中加载了 300 个文档。\n",
      "正在处理文件夹: D:/Project/data/Project_CodeNet_Python800\\p03162\n"
     ]
    },
    {
     "name": "stderr",
     "output_type": "stream",
     "text": [
      "100%|██████████| 300/300 [00:00<00:00, 4000.33it/s]\n"
     ]
    },
    {
     "name": "stdout",
     "output_type": "stream",
     "text": [
      "文件夹 D:/Project/data/Project_CodeNet_Python800\\p03162 中加载了 300 个文档。\n",
      "正在处理文件夹: D:/Project/data/Project_CodeNet_Python800\\p03583\n"
     ]
    },
    {
     "name": "stderr",
     "output_type": "stream",
     "text": [
      "100%|██████████| 300/300 [00:00<00:00, 4000.05it/s]\n"
     ]
    },
    {
     "name": "stdout",
     "output_type": "stream",
     "text": [
      "文件夹 D:/Project/data/Project_CodeNet_Python800\\p03583 中加载了 300 个文档。\n",
      "正在处理文件夹: D:/Project/data/Project_CodeNet_Python800\\p03261\n"
     ]
    },
    {
     "name": "stderr",
     "output_type": "stream",
     "text": [
      "100%|██████████| 300/300 [00:00<00:00, 3982.67it/s]\n"
     ]
    },
    {
     "name": "stdout",
     "output_type": "stream",
     "text": [
      "文件夹 D:/Project/data/Project_CodeNet_Python800\\p03261 中加载了 300 个文档。\n",
      "正在处理文件夹: D:/Project/data/Project_CodeNet_Python800\\p03423\n"
     ]
    },
    {
     "name": "stderr",
     "output_type": "stream",
     "text": [
      "100%|██████████| 300/300 [00:00<00:00, 4109.11it/s]\n"
     ]
    },
    {
     "name": "stdout",
     "output_type": "stream",
     "text": [
      "文件夹 D:/Project/data/Project_CodeNet_Python800\\p03423 中加载了 300 个文档。\n",
      "正在处理文件夹: D:/Project/data/Project_CodeNet_Python800\\p03151\n"
     ]
    },
    {
     "name": "stderr",
     "output_type": "stream",
     "text": [
      "100%|██████████| 300/300 [00:00<00:00, 3972.43it/s]\n"
     ]
    },
    {
     "name": "stdout",
     "output_type": "stream",
     "text": [
      "文件夹 D:/Project/data/Project_CodeNet_Python800\\p03151 中加载了 300 个文档。\n",
      "正在处理文件夹: D:/Project/data/Project_CodeNet_Python800\\p03795\n"
     ]
    },
    {
     "name": "stderr",
     "output_type": "stream",
     "text": [
      "100%|██████████| 300/300 [00:00<00:00, 4123.92it/s]\n"
     ]
    },
    {
     "name": "stdout",
     "output_type": "stream",
     "text": [
      "文件夹 D:/Project/data/Project_CodeNet_Python800\\p03795 中加载了 300 个文档。\n",
      "正在处理文件夹: D:/Project/data/Project_CodeNet_Python800\\p02778\n"
     ]
    },
    {
     "name": "stderr",
     "output_type": "stream",
     "text": [
      "100%|██████████| 300/300 [00:00<00:00, 4079.97it/s]\n"
     ]
    },
    {
     "name": "stdout",
     "output_type": "stream",
     "text": [
      "文件夹 D:/Project/data/Project_CodeNet_Python800\\p02778 中加载了 300 个文档。\n",
      "正在处理文件夹: D:/Project/data/Project_CodeNet_Python800\\p03005\n"
     ]
    },
    {
     "name": "stderr",
     "output_type": "stream",
     "text": [
      "100%|██████████| 300/300 [00:00<00:00, 4109.63it/s]\n"
     ]
    },
    {
     "name": "stdout",
     "output_type": "stream",
     "text": [
      "文件夹 D:/Project/data/Project_CodeNet_Python800\\p03005 中加载了 300 个文档。\n",
      "正在处理文件夹: D:/Project/data/Project_CodeNet_Python800\\p03724\n"
     ]
    },
    {
     "name": "stderr",
     "output_type": "stream",
     "text": [
      "100%|██████████| 300/300 [00:00<00:00, 3846.34it/s]\n"
     ]
    },
    {
     "name": "stdout",
     "output_type": "stream",
     "text": [
      "文件夹 D:/Project/data/Project_CodeNet_Python800\\p03724 中加载了 300 个文档。\n",
      "正在处理文件夹: D:/Project/data/Project_CodeNet_Python800\\p03427\n"
     ]
    },
    {
     "name": "stderr",
     "output_type": "stream",
     "text": [
      "100%|██████████| 300/300 [00:00<00:00, 3896.21it/s]\n"
     ]
    },
    {
     "name": "stdout",
     "output_type": "stream",
     "text": [
      "文件夹 D:/Project/data/Project_CodeNet_Python800\\p03427 中加载了 300 个文档。\n",
      "正在处理文件夹: D:/Project/data/Project_CodeNet_Python800\\p02768\n"
     ]
    },
    {
     "name": "stderr",
     "output_type": "stream",
     "text": [
      "100%|██████████| 300/300 [00:00<00:00, 2767.92it/s]\n"
     ]
    },
    {
     "name": "stdout",
     "output_type": "stream",
     "text": [
      "文件夹 D:/Project/data/Project_CodeNet_Python800\\p02768 中加载了 300 个文档。\n",
      "正在处理文件夹: D:/Project/data/Project_CodeNet_Python800\\p03289\n"
     ]
    },
    {
     "name": "stderr",
     "output_type": "stream",
     "text": [
      "100%|██████████| 300/300 [00:00<00:00, 3766.23it/s]\n"
     ]
    },
    {
     "name": "stdout",
     "output_type": "stream",
     "text": [
      "文件夹 D:/Project/data/Project_CodeNet_Python800\\p03289 中加载了 300 个文档。\n",
      "正在处理文件夹: D:/Project/data/Project_CodeNet_Python800\\p02719\n"
     ]
    },
    {
     "name": "stderr",
     "output_type": "stream",
     "text": [
      "100%|██████████| 300/300 [00:00<00:00, 4076.94it/s]\n"
     ]
    },
    {
     "name": "stdout",
     "output_type": "stream",
     "text": [
      "文件夹 D:/Project/data/Project_CodeNet_Python800\\p02719 中加载了 300 个文档。\n",
      "正在处理文件夹: D:/Project/data/Project_CodeNet_Python800\\p02936\n"
     ]
    },
    {
     "name": "stderr",
     "output_type": "stream",
     "text": [
      "100%|██████████| 300/300 [00:00<00:00, 4054.30it/s]\n"
     ]
    },
    {
     "name": "stdout",
     "output_type": "stream",
     "text": [
      "文件夹 D:/Project/data/Project_CodeNet_Python800\\p02936 中加载了 300 个文档。\n",
      "正在处理文件夹: D:/Project/data/Project_CodeNet_Python800\\p03476\n"
     ]
    },
    {
     "name": "stderr",
     "output_type": "stream",
     "text": [
      "100%|██████████| 300/300 [00:00<00:00, 3972.17it/s]\n"
     ]
    },
    {
     "name": "stdout",
     "output_type": "stream",
     "text": [
      "文件夹 D:/Project/data/Project_CodeNet_Python800\\p03476 中加载了 300 个文档。\n",
      "正在处理文件夹: D:/Project/data/Project_CodeNet_Python800\\p02607\n"
     ]
    },
    {
     "name": "stderr",
     "output_type": "stream",
     "text": [
      "100%|██████████| 300/300 [00:00<00:00, 3996.53it/s]\n"
     ]
    },
    {
     "name": "stdout",
     "output_type": "stream",
     "text": [
      "文件夹 D:/Project/data/Project_CodeNet_Python800\\p02607 中加载了 300 个文档。\n",
      "正在处理文件夹: D:/Project/data/Project_CodeNet_Python800\\p03970\n"
     ]
    },
    {
     "name": "stderr",
     "output_type": "stream",
     "text": [
      "100%|██████████| 300/300 [00:00<00:00, 4108.77it/s]\n"
     ]
    },
    {
     "name": "stdout",
     "output_type": "stream",
     "text": [
      "文件夹 D:/Project/data/Project_CodeNet_Python800\\p03970 中加载了 300 个文档。\n",
      "正在处理文件夹: D:/Project/data/Project_CodeNet_Python800\\p03679\n"
     ]
    },
    {
     "name": "stderr",
     "output_type": "stream",
     "text": [
      "100%|██████████| 300/300 [00:00<00:00, 4070.88it/s]\n"
     ]
    },
    {
     "name": "stdout",
     "output_type": "stream",
     "text": [
      "文件夹 D:/Project/data/Project_CodeNet_Python800\\p03679 中加载了 300 个文档。\n",
      "正在处理文件夹: D:/Project/data/Project_CodeNet_Python800\\p03599\n"
     ]
    },
    {
     "name": "stderr",
     "output_type": "stream",
     "text": [
      "100%|██████████| 300/300 [00:00<00:00, 3488.58it/s]\n"
     ]
    },
    {
     "name": "stdout",
     "output_type": "stream",
     "text": [
      "文件夹 D:/Project/data/Project_CodeNet_Python800\\p03599 中加载了 300 个文档。\n",
      "正在处理文件夹: D:/Project/data/Project_CodeNet_Python800\\p03385\n"
     ]
    },
    {
     "name": "stderr",
     "output_type": "stream",
     "text": [
      "100%|██████████| 300/300 [00:00<00:00, 3846.37it/s]\n"
     ]
    },
    {
     "name": "stdout",
     "output_type": "stream",
     "text": [
      "文件夹 D:/Project/data/Project_CodeNet_Python800\\p03385 中加载了 300 个文档。\n",
      "正在处理文件夹: D:/Project/data/Project_CodeNet_Python800\\p03095\n"
     ]
    },
    {
     "name": "stderr",
     "output_type": "stream",
     "text": [
      "100%|██████████| 300/300 [00:00<00:00, 4053.66it/s]\n"
     ]
    },
    {
     "name": "stdout",
     "output_type": "stream",
     "text": [
      "文件夹 D:/Project/data/Project_CodeNet_Python800\\p03095 中加载了 300 个文档。\n",
      "正在处理文件夹: D:/Project/data/Project_CodeNet_Python800\\p03971\n"
     ]
    },
    {
     "name": "stderr",
     "output_type": "stream",
     "text": [
      "100%|██████████| 300/300 [00:00<00:00, 4078.79it/s]\n"
     ]
    },
    {
     "name": "stdout",
     "output_type": "stream",
     "text": [
      "文件夹 D:/Project/data/Project_CodeNet_Python800\\p03971 中加载了 300 个文档。\n",
      "正在处理文件夹: D:/Project/data/Project_CodeNet_Python800\\p03844\n"
     ]
    },
    {
     "name": "stderr",
     "output_type": "stream",
     "text": [
      "100%|██████████| 300/300 [00:00<00:00, 4075.65it/s]\n"
     ]
    },
    {
     "name": "stdout",
     "output_type": "stream",
     "text": [
      "文件夹 D:/Project/data/Project_CodeNet_Python800\\p03844 中加载了 300 个文档。\n",
      "正在处理文件夹: D:/Project/data/Project_CodeNet_Python800\\p02873\n"
     ]
    },
    {
     "name": "stderr",
     "output_type": "stream",
     "text": [
      "100%|██████████| 300/300 [00:00<00:00, 3999.72it/s]\n"
     ]
    },
    {
     "name": "stdout",
     "output_type": "stream",
     "text": [
      "文件夹 D:/Project/data/Project_CodeNet_Python800\\p02873 中加载了 300 个文档。\n",
      "正在处理文件夹: D:/Project/data/Project_CodeNet_Python800\\p03605\n"
     ]
    },
    {
     "name": "stderr",
     "output_type": "stream",
     "text": [
      "100%|██████████| 300/300 [00:00<00:00, 3241.61it/s]\n"
     ]
    },
    {
     "name": "stdout",
     "output_type": "stream",
     "text": [
      "文件夹 D:/Project/data/Project_CodeNet_Python800\\p03605 中加载了 300 个文档。\n",
      "正在处理文件夹: D:/Project/data/Project_CodeNet_Python800\\p02397\n"
     ]
    },
    {
     "name": "stderr",
     "output_type": "stream",
     "text": [
      "100%|██████████| 300/300 [00:00<00:00, 4113.78it/s]\n"
     ]
    },
    {
     "name": "stdout",
     "output_type": "stream",
     "text": [
      "文件夹 D:/Project/data/Project_CodeNet_Python800\\p02397 中加载了 300 个文档。\n",
      "正在处理文件夹: D:/Project/data/Project_CodeNet_Python800\\p03048\n"
     ]
    },
    {
     "name": "stderr",
     "output_type": "stream",
     "text": [
      "100%|██████████| 300/300 [00:00<00:00, 3999.32it/s]\n"
     ]
    },
    {
     "name": "stdout",
     "output_type": "stream",
     "text": [
      "文件夹 D:/Project/data/Project_CodeNet_Python800\\p03048 中加载了 300 个文档。\n",
      "正在处理文件夹: D:/Project/data/Project_CodeNet_Python800\\p03323\n"
     ]
    },
    {
     "name": "stderr",
     "output_type": "stream",
     "text": [
      "100%|██████████| 300/300 [00:00<00:00, 3936.59it/s]\n"
     ]
    },
    {
     "name": "stdout",
     "output_type": "stream",
     "text": [
      "文件夹 D:/Project/data/Project_CodeNet_Python800\\p03323 中加载了 300 个文档。\n",
      "正在处理文件夹: D:/Project/data/Project_CodeNet_Python800\\p02583\n"
     ]
    },
    {
     "name": "stderr",
     "output_type": "stream",
     "text": [
      "100%|██████████| 300/300 [00:00<00:00, 3529.52it/s]\n"
     ]
    },
    {
     "name": "stdout",
     "output_type": "stream",
     "text": [
      "文件夹 D:/Project/data/Project_CodeNet_Python800\\p02583 中加载了 300 个文档。\n",
      "正在处理文件夹: D:/Project/data/Project_CodeNet_Python800\\p02783\n"
     ]
    },
    {
     "name": "stderr",
     "output_type": "stream",
     "text": [
      "100%|██████████| 300/300 [00:00<00:00, 4000.30it/s]\n"
     ]
    },
    {
     "name": "stdout",
     "output_type": "stream",
     "text": [
      "文件夹 D:/Project/data/Project_CodeNet_Python800\\p02783 中加载了 300 个文档。\n",
      "正在处理文件夹: D:/Project/data/Project_CodeNet_Python800\\p02706\n"
     ]
    },
    {
     "name": "stderr",
     "output_type": "stream",
     "text": [
      "100%|██████████| 300/300 [00:00<00:00, 4000.12it/s]\n"
     ]
    },
    {
     "name": "stdout",
     "output_type": "stream",
     "text": [
      "文件夹 D:/Project/data/Project_CodeNet_Python800\\p02706 中加载了 300 个文档。\n",
      "正在处理文件夹: D:/Project/data/Project_CodeNet_Python800\\p03241\n"
     ]
    },
    {
     "name": "stderr",
     "output_type": "stream",
     "text": [
      "100%|██████████| 300/300 [00:00<00:00, 4053.60it/s]\n"
     ]
    },
    {
     "name": "stdout",
     "output_type": "stream",
     "text": [
      "文件夹 D:/Project/data/Project_CodeNet_Python800\\p03241 中加载了 300 个文档。\n",
      "正在处理文件夹: D:/Project/data/Project_CodeNet_Python800\\p02699\n"
     ]
    },
    {
     "name": "stderr",
     "output_type": "stream",
     "text": [
      "100%|██████████| 300/300 [00:00<00:00, 3453.63it/s]\n"
     ]
    },
    {
     "name": "stdout",
     "output_type": "stream",
     "text": [
      "文件夹 D:/Project/data/Project_CodeNet_Python800\\p02699 中加载了 300 个文档。\n",
      "正在处理文件夹: D:/Project/data/Project_CodeNet_Python800\\p02855\n"
     ]
    },
    {
     "name": "stderr",
     "output_type": "stream",
     "text": [
      "100%|██████████| 300/300 [00:00<00:00, 3916.31it/s]\n"
     ]
    },
    {
     "name": "stdout",
     "output_type": "stream",
     "text": [
      "文件夹 D:/Project/data/Project_CodeNet_Python800\\p02855 中加载了 300 个文档。\n",
      "正在处理文件夹: D:/Project/data/Project_CodeNet_Python800\\p02850\n"
     ]
    },
    {
     "name": "stderr",
     "output_type": "stream",
     "text": [
      "100%|██████████| 300/300 [00:00<00:00, 3999.98it/s]\n"
     ]
    },
    {
     "name": "stdout",
     "output_type": "stream",
     "text": [
      "文件夹 D:/Project/data/Project_CodeNet_Python800\\p02850 中加载了 300 个文档。\n",
      "正在处理文件夹: D:/Project/data/Project_CodeNet_Python800\\p03592\n"
     ]
    },
    {
     "name": "stderr",
     "output_type": "stream",
     "text": [
      "100%|██████████| 300/300 [00:00<00:00, 4080.76it/s]\n"
     ]
    },
    {
     "name": "stdout",
     "output_type": "stream",
     "text": [
      "文件夹 D:/Project/data/Project_CodeNet_Python800\\p03592 中加载了 300 个文档。\n",
      "正在处理文件夹: D:/Project/data/Project_CodeNet_Python800\\p02730\n"
     ]
    },
    {
     "name": "stderr",
     "output_type": "stream",
     "text": [
      "100%|██████████| 300/300 [00:00<00:00, 3614.73it/s]\n"
     ]
    },
    {
     "name": "stdout",
     "output_type": "stream",
     "text": [
      "文件夹 D:/Project/data/Project_CodeNet_Python800\\p02730 中加载了 300 个文档。\n",
      "正在处理文件夹: D:/Project/data/Project_CodeNet_Python800\\p03399\n"
     ]
    },
    {
     "name": "stderr",
     "output_type": "stream",
     "text": [
      "100%|██████████| 300/300 [00:00<00:00, 2803.79it/s]\n"
     ]
    },
    {
     "name": "stdout",
     "output_type": "stream",
     "text": [
      "文件夹 D:/Project/data/Project_CodeNet_Python800\\p03399 中加载了 300 个文档。\n",
      "正在处理文件夹: D:/Project/data/Project_CodeNet_Python800\\p03330\n"
     ]
    },
    {
     "name": "stderr",
     "output_type": "stream",
     "text": [
      "100%|██████████| 300/300 [00:00<00:00, 3797.69it/s]\n"
     ]
    },
    {
     "name": "stdout",
     "output_type": "stream",
     "text": [
      "文件夹 D:/Project/data/Project_CodeNet_Python800\\p03330 中加载了 300 个文档。\n",
      "正在处理文件夹: D:/Project/data/Project_CodeNet_Python800\\p03543\n"
     ]
    },
    {
     "name": "stderr",
     "output_type": "stream",
     "text": [
      "100%|██████████| 300/300 [00:00<00:00, 4109.87it/s]\n"
     ]
    },
    {
     "name": "stdout",
     "output_type": "stream",
     "text": [
      "文件夹 D:/Project/data/Project_CodeNet_Python800\\p03543 中加载了 300 个文档。\n",
      "正在处理文件夹: D:/Project/data/Project_CodeNet_Python800\\p02416\n"
     ]
    },
    {
     "name": "stderr",
     "output_type": "stream",
     "text": [
      "100%|██████████| 300/300 [00:00<00:00, 3892.14it/s]\n"
     ]
    },
    {
     "name": "stdout",
     "output_type": "stream",
     "text": [
      "文件夹 D:/Project/data/Project_CodeNet_Python800\\p02416 中加载了 300 个文档。\n",
      "正在处理文件夹: D:/Project/data/Project_CodeNet_Python800\\p03803\n"
     ]
    },
    {
     "name": "stderr",
     "output_type": "stream",
     "text": [
      "100%|██████████| 300/300 [00:00<00:00, 3704.07it/s]\n"
     ]
    },
    {
     "name": "stdout",
     "output_type": "stream",
     "text": [
      "文件夹 D:/Project/data/Project_CodeNet_Python800\\p03803 中加载了 300 个文档。\n",
      "正在处理文件夹: D:/Project/data/Project_CodeNet_Python800\\p02916\n"
     ]
    },
    {
     "name": "stderr",
     "output_type": "stream",
     "text": [
      "100%|██████████| 300/300 [00:00<00:00, 3947.42it/s]\n"
     ]
    },
    {
     "name": "stdout",
     "output_type": "stream",
     "text": [
      "文件夹 D:/Project/data/Project_CodeNet_Python800\\p02916 中加载了 300 个文档。\n",
      "正在处理文件夹: D:/Project/data/Project_CodeNet_Python800\\p03588\n"
     ]
    },
    {
     "name": "stderr",
     "output_type": "stream",
     "text": [
      "100%|██████████| 300/300 [00:00<00:00, 3971.13it/s]\n"
     ]
    },
    {
     "name": "stdout",
     "output_type": "stream",
     "text": [
      "文件夹 D:/Project/data/Project_CodeNet_Python800\\p03588 中加载了 300 个文档。\n",
      "正在处理文件夹: D:/Project/data/Project_CodeNet_Python800\\p02955\n"
     ]
    },
    {
     "name": "stderr",
     "output_type": "stream",
     "text": [
      "100%|██████████| 300/300 [00:00<00:00, 3797.59it/s]\n"
     ]
    },
    {
     "name": "stdout",
     "output_type": "stream",
     "text": [
      "文件夹 D:/Project/data/Project_CodeNet_Python800\\p02955 中加载了 300 个文档。\n",
      "正在处理文件夹: D:/Project/data/Project_CodeNet_Python800\\p04031\n"
     ]
    },
    {
     "name": "stderr",
     "output_type": "stream",
     "text": [
      "100%|██████████| 300/300 [00:00<00:00, 3524.61it/s]\n"
     ]
    },
    {
     "name": "stdout",
     "output_type": "stream",
     "text": [
      "文件夹 D:/Project/data/Project_CodeNet_Python800\\p04031 中加载了 300 个文档。\n",
      "正在处理文件夹: D:/Project/data/Project_CodeNet_Python800\\p02314\n"
     ]
    },
    {
     "name": "stderr",
     "output_type": "stream",
     "text": [
      "100%|██████████| 300/300 [00:00<00:00, 3966.91it/s]\n"
     ]
    },
    {
     "name": "stdout",
     "output_type": "stream",
     "text": [
      "文件夹 D:/Project/data/Project_CodeNet_Python800\\p02314 中加载了 300 个文档。\n",
      "正在处理文件夹: D:/Project/data/Project_CodeNet_Python800\\p02834\n"
     ]
    },
    {
     "name": "stderr",
     "output_type": "stream",
     "text": [
      "100%|██████████| 300/300 [00:00<00:00, 3891.49it/s]\n"
     ]
    },
    {
     "name": "stdout",
     "output_type": "stream",
     "text": [
      "文件夹 D:/Project/data/Project_CodeNet_Python800\\p02834 中加载了 300 个文档。\n",
      "正在处理文件夹: D:/Project/data/Project_CodeNet_Python800\\p02402\n"
     ]
    },
    {
     "name": "stderr",
     "output_type": "stream",
     "text": [
      "100%|██████████| 300/300 [00:00<00:00, 4054.10it/s]\n"
     ]
    },
    {
     "name": "stdout",
     "output_type": "stream",
     "text": [
      "文件夹 D:/Project/data/Project_CodeNet_Python800\\p02402 中加载了 300 个文档。\n",
      "正在处理文件夹: D:/Project/data/Project_CodeNet_Python800\\p02903\n"
     ]
    },
    {
     "name": "stderr",
     "output_type": "stream",
     "text": [
      "100%|██████████| 300/300 [00:00<00:00, 4036.70it/s]\n"
     ]
    },
    {
     "name": "stdout",
     "output_type": "stream",
     "text": [
      "文件夹 D:/Project/data/Project_CodeNet_Python800\\p02903 中加载了 300 个文档。\n",
      "正在处理文件夹: D:/Project/data/Project_CodeNet_Python800\\p04000\n"
     ]
    },
    {
     "name": "stderr",
     "output_type": "stream",
     "text": [
      "100%|██████████| 300/300 [00:00<00:00, 3409.32it/s]\n"
     ]
    },
    {
     "name": "stdout",
     "output_type": "stream",
     "text": [
      "文件夹 D:/Project/data/Project_CodeNet_Python800\\p04000 中加载了 300 个文档。\n",
      "正在处理文件夹: D:/Project/data/Project_CodeNet_Python800\\p03353\n"
     ]
    },
    {
     "name": "stderr",
     "output_type": "stream",
     "text": [
      "100%|██████████| 300/300 [00:00<00:00, 4000.19it/s]\n"
     ]
    },
    {
     "name": "stdout",
     "output_type": "stream",
     "text": [
      "文件夹 D:/Project/data/Project_CodeNet_Python800\\p03353 中加载了 300 个文档。\n",
      "正在处理文件夹: D:/Project/data/Project_CodeNet_Python800\\p02830\n"
     ]
    },
    {
     "name": "stderr",
     "output_type": "stream",
     "text": [
      "100%|██████████| 300/300 [00:00<00:00, 4080.90it/s]\n"
     ]
    },
    {
     "name": "stdout",
     "output_type": "stream",
     "text": [
      "文件夹 D:/Project/data/Project_CodeNet_Python800\\p02830 中加载了 300 个文档。\n",
      "正在处理文件夹: D:/Project/data/Project_CodeNet_Python800\\p03409\n"
     ]
    },
    {
     "name": "stderr",
     "output_type": "stream",
     "text": [
      "100%|██████████| 300/300 [00:00<00:00, 1523.17it/s]\n"
     ]
    },
    {
     "name": "stdout",
     "output_type": "stream",
     "text": [
      "文件夹 D:/Project/data/Project_CodeNet_Python800\\p03409 中加载了 300 个文档。\n",
      "正在处理文件夹: D:/Project/data/Project_CodeNet_Python800\\p02861\n"
     ]
    },
    {
     "name": "stderr",
     "output_type": "stream",
     "text": [
      "100%|██████████| 300/300 [00:00<00:00, 3947.44it/s]\n"
     ]
    },
    {
     "name": "stdout",
     "output_type": "stream",
     "text": [
      "文件夹 D:/Project/data/Project_CodeNet_Python800\\p02861 中加载了 300 个文档。\n",
      "正在处理文件夹: D:/Project/data/Project_CodeNet_Python800\\p02947\n"
     ]
    },
    {
     "name": "stderr",
     "output_type": "stream",
     "text": [
      "100%|██████████| 300/300 [00:00<00:00, 3946.89it/s]\n"
     ]
    },
    {
     "name": "stdout",
     "output_type": "stream",
     "text": [
      "文件夹 D:/Project/data/Project_CodeNet_Python800\\p02947 中加载了 300 个文档。\n",
      "正在处理文件夹: D:/Project/data/Project_CodeNet_Python800\\p02631\n"
     ]
    },
    {
     "name": "stderr",
     "output_type": "stream",
     "text": [
      "100%|██████████| 300/300 [00:00<00:00, 3911.06it/s]\n"
     ]
    },
    {
     "name": "stdout",
     "output_type": "stream",
     "text": [
      "文件夹 D:/Project/data/Project_CodeNet_Python800\\p02631 中加载了 300 个文档。\n",
      "正在处理文件夹: D:/Project/data/Project_CodeNet_Python800\\p02984\n"
     ]
    },
    {
     "name": "stderr",
     "output_type": "stream",
     "text": [
      "100%|██████████| 300/300 [00:00<00:00, 3675.70it/s]\n"
     ]
    },
    {
     "name": "stdout",
     "output_type": "stream",
     "text": [
      "文件夹 D:/Project/data/Project_CodeNet_Python800\\p02984 中加载了 300 个文档。\n",
      "正在处理文件夹: D:/Project/data/Project_CodeNet_Python800\\p02689\n"
     ]
    },
    {
     "name": "stderr",
     "output_type": "stream",
     "text": [
      "100%|██████████| 300/300 [00:00<00:00, 3845.53it/s]\n"
     ]
    },
    {
     "name": "stdout",
     "output_type": "stream",
     "text": [
      "文件夹 D:/Project/data/Project_CodeNet_Python800\\p02689 中加载了 300 个文档。\n",
      "正在处理文件夹: D:/Project/data/Project_CodeNet_Python800\\p03017\n"
     ]
    },
    {
     "name": "stderr",
     "output_type": "stream",
     "text": [
      "100%|██████████| 300/300 [00:00<00:00, 3914.52it/s]\n"
     ]
    },
    {
     "name": "stdout",
     "output_type": "stream",
     "text": [
      "文件夹 D:/Project/data/Project_CodeNet_Python800\\p03017 中加载了 300 个文档。\n",
      "正在处理文件夹: D:/Project/data/Project_CodeNet_Python800\\p03090\n"
     ]
    },
    {
     "name": "stderr",
     "output_type": "stream",
     "text": [
      "100%|██████████| 300/300 [00:00<00:00, 3866.44it/s]\n"
     ]
    },
    {
     "name": "stdout",
     "output_type": "stream",
     "text": [
      "文件夹 D:/Project/data/Project_CodeNet_Python800\\p03090 中加载了 300 个文档。\n",
      "正在处理文件夹: D:/Project/data/Project_CodeNet_Python800\\p04020\n"
     ]
    },
    {
     "name": "stderr",
     "output_type": "stream",
     "text": [
      "100%|██████████| 300/300 [00:00<00:00, 3999.73it/s]\n"
     ]
    },
    {
     "name": "stdout",
     "output_type": "stream",
     "text": [
      "文件夹 D:/Project/data/Project_CodeNet_Python800\\p04020 中加载了 300 个文档。\n",
      "正在处理文件夹: D:/Project/data/Project_CodeNet_Python800\\p03496\n"
     ]
    },
    {
     "name": "stderr",
     "output_type": "stream",
     "text": [
      "100%|██████████| 300/300 [00:00<00:00, 4024.29it/s]\n"
     ]
    },
    {
     "name": "stdout",
     "output_type": "stream",
     "text": [
      "文件夹 D:/Project/data/Project_CodeNet_Python800\\p03496 中加载了 300 个文档。\n",
      "正在处理文件夹: D:/Project/data/Project_CodeNet_Python800\\p03290\n"
     ]
    },
    {
     "name": "stderr",
     "output_type": "stream",
     "text": [
      "100%|██████████| 300/300 [00:00<00:00, 3370.83it/s]\n"
     ]
    },
    {
     "name": "stdout",
     "output_type": "stream",
     "text": [
      "文件夹 D:/Project/data/Project_CodeNet_Python800\\p03290 中加载了 300 个文档。\n",
      "正在处理文件夹: D:/Project/data/Project_CodeNet_Python800\\p03502\n"
     ]
    },
    {
     "name": "stderr",
     "output_type": "stream",
     "text": [
      "100%|██████████| 300/300 [00:00<00:00, 4079.55it/s]\n"
     ]
    },
    {
     "name": "stdout",
     "output_type": "stream",
     "text": [
      "文件夹 D:/Project/data/Project_CodeNet_Python800\\p03502 中加载了 300 个文档。\n",
      "正在处理文件夹: D:/Project/data/Project_CodeNet_Python800\\p02619\n"
     ]
    },
    {
     "name": "stderr",
     "output_type": "stream",
     "text": [
      "100%|██████████| 300/300 [00:00<00:00, 4017.11it/s]\n"
     ]
    },
    {
     "name": "stdout",
     "output_type": "stream",
     "text": [
      "文件夹 D:/Project/data/Project_CodeNet_Python800\\p02619 中加载了 300 个文档。\n",
      "正在处理文件夹: D:/Project/data/Project_CodeNet_Python800\\p02817\n"
     ]
    },
    {
     "name": "stderr",
     "output_type": "stream",
     "text": [
      "100%|██████████| 300/300 [00:00<00:00, 4054.26it/s]\n"
     ]
    },
    {
     "name": "stdout",
     "output_type": "stream",
     "text": [
      "文件夹 D:/Project/data/Project_CodeNet_Python800\\p02817 中加载了 300 个文档。\n",
      "正在处理文件夹: D:/Project/data/Project_CodeNet_Python800\\p03862\n"
     ]
    },
    {
     "name": "stderr",
     "output_type": "stream",
     "text": [
      "100%|██████████| 300/300 [00:00<00:00, 3400.53it/s]\n"
     ]
    },
    {
     "name": "stdout",
     "output_type": "stream",
     "text": [
      "文件夹 D:/Project/data/Project_CodeNet_Python800\\p03862 中加载了 300 个文档。\n",
      "正在处理文件夹: D:/Project/data/Project_CodeNet_Python800\\p02265\n"
     ]
    },
    {
     "name": "stderr",
     "output_type": "stream",
     "text": [
      "100%|██████████| 300/300 [00:00<00:00, 4051.16it/s]\n"
     ]
    },
    {
     "name": "stdout",
     "output_type": "stream",
     "text": [
      "文件夹 D:/Project/data/Project_CodeNet_Python800\\p02265 中加载了 300 个文档。\n",
      "正在处理文件夹: D:/Project/data/Project_CodeNet_Python800\\p03345\n"
     ]
    },
    {
     "name": "stderr",
     "output_type": "stream",
     "text": [
      "100%|██████████| 300/300 [00:00<00:00, 3947.31it/s]\n"
     ]
    },
    {
     "name": "stdout",
     "output_type": "stream",
     "text": [
      "文件夹 D:/Project/data/Project_CodeNet_Python800\\p03345 中加载了 300 个文档。\n",
      "正在处理文件夹: D:/Project/data/Project_CodeNet_Python800\\p03146\n"
     ]
    },
    {
     "name": "stderr",
     "output_type": "stream",
     "text": [
      "100%|██████████| 300/300 [00:00<00:00, 3792.41it/s]\n"
     ]
    },
    {
     "name": "stdout",
     "output_type": "stream",
     "text": [
      "文件夹 D:/Project/data/Project_CodeNet_Python800\\p03146 中加载了 300 个文档。\n",
      "正在处理文件夹: D:/Project/data/Project_CodeNet_Python800\\p03281\n"
     ]
    },
    {
     "name": "stderr",
     "output_type": "stream",
     "text": [
      "100%|██████████| 300/300 [00:00<00:00, 3680.14it/s]\n"
     ]
    },
    {
     "name": "stdout",
     "output_type": "stream",
     "text": [
      "文件夹 D:/Project/data/Project_CodeNet_Python800\\p03281 中加载了 300 个文档。\n",
      "正在处理文件夹: D:/Project/data/Project_CodeNet_Python800\\p02585\n"
     ]
    },
    {
     "name": "stderr",
     "output_type": "stream",
     "text": [
      "100%|██████████| 300/300 [00:00<00:00, 3917.24it/s]\n"
     ]
    },
    {
     "name": "stdout",
     "output_type": "stream",
     "text": [
      "文件夹 D:/Project/data/Project_CodeNet_Python800\\p02585 中加载了 300 个文档。\n",
      "正在处理文件夹: D:/Project/data/Project_CodeNet_Python800\\p03625\n"
     ]
    },
    {
     "name": "stderr",
     "output_type": "stream",
     "text": [
      "100%|██████████| 300/300 [00:00<00:00, 4080.91it/s]\n"
     ]
    },
    {
     "name": "stdout",
     "output_type": "stream",
     "text": [
      "文件夹 D:/Project/data/Project_CodeNet_Python800\\p03625 中加载了 300 个文档。\n",
      "正在处理文件夹: D:/Project/data/Project_CodeNet_Python800\\p03821\n"
     ]
    },
    {
     "name": "stderr",
     "output_type": "stream",
     "text": [
      "100%|██████████| 300/300 [00:00<00:00, 3914.92it/s]\n"
     ]
    },
    {
     "name": "stdout",
     "output_type": "stream",
     "text": [
      "文件夹 D:/Project/data/Project_CodeNet_Python800\\p03821 中加载了 300 个文档。\n",
      "正在处理文件夹: D:/Project/data/Project_CodeNet_Python800\\p02759\n"
     ]
    },
    {
     "name": "stderr",
     "output_type": "stream",
     "text": [
      "100%|██████████| 300/300 [00:00<00:00, 4053.94it/s]\n"
     ]
    },
    {
     "name": "stdout",
     "output_type": "stream",
     "text": [
      "文件夹 D:/Project/data/Project_CodeNet_Python800\\p02759 中加载了 300 个文档。\n",
      "正在处理文件夹: D:/Project/data/Project_CodeNet_Python800\\p03957\n"
     ]
    },
    {
     "name": "stderr",
     "output_type": "stream",
     "text": [
      "100%|██████████| 300/300 [00:00<00:00, 3333.26it/s]\n"
     ]
    },
    {
     "name": "stdout",
     "output_type": "stream",
     "text": [
      "文件夹 D:/Project/data/Project_CodeNet_Python800\\p03957 中加载了 300 个文档。\n",
      "正在处理文件夹: D:/Project/data/Project_CodeNet_Python800\\p02982\n"
     ]
    },
    {
     "name": "stderr",
     "output_type": "stream",
     "text": [
      "100%|██████████| 300/300 [00:00<00:00, 4054.07it/s]\n"
     ]
    },
    {
     "name": "stdout",
     "output_type": "stream",
     "text": [
      "文件夹 D:/Project/data/Project_CodeNet_Python800\\p02982 中加载了 300 个文档。\n",
      "正在处理文件夹: D:/Project/data/Project_CodeNet_Python800\\p02595\n"
     ]
    },
    {
     "name": "stderr",
     "output_type": "stream",
     "text": [
      "100%|██████████| 300/300 [00:00<00:00, 4109.00it/s]\n"
     ]
    },
    {
     "name": "stdout",
     "output_type": "stream",
     "text": [
      "文件夹 D:/Project/data/Project_CodeNet_Python800\\p02595 中加载了 300 个文档。\n",
      "正在处理文件夹: D:/Project/data/Project_CodeNet_Python800\\p02696\n"
     ]
    },
    {
     "name": "stderr",
     "output_type": "stream",
     "text": [
      "100%|██████████| 300/300 [00:00<00:00, 3965.83it/s]\n"
     ]
    },
    {
     "name": "stdout",
     "output_type": "stream",
     "text": [
      "文件夹 D:/Project/data/Project_CodeNet_Python800\\p02696 中加载了 300 个文档。\n",
      "正在处理文件夹: D:/Project/data/Project_CodeNet_Python800\\p02621\n"
     ]
    },
    {
     "name": "stderr",
     "output_type": "stream",
     "text": [
      "100%|██████████| 300/300 [00:00<00:00, 3996.57it/s]\n"
     ]
    },
    {
     "name": "stdout",
     "output_type": "stream",
     "text": [
      "文件夹 D:/Project/data/Project_CodeNet_Python800\\p02621 中加载了 300 个文档。\n",
      "正在处理文件夹: D:/Project/data/Project_CodeNet_Python800\\p03636\n"
     ]
    },
    {
     "name": "stderr",
     "output_type": "stream",
     "text": [
      "100%|██████████| 300/300 [00:00<00:00, 4000.19it/s]\n"
     ]
    },
    {
     "name": "stdout",
     "output_type": "stream",
     "text": [
      "文件夹 D:/Project/data/Project_CodeNet_Python800\\p03636 中加载了 300 个文档。\n",
      "正在处理文件夹: D:/Project/data/Project_CodeNet_Python800\\p02272\n"
     ]
    },
    {
     "name": "stderr",
     "output_type": "stream",
     "text": [
      "100%|██████████| 300/300 [00:00<00:00, 3916.52it/s]\n"
     ]
    },
    {
     "name": "stdout",
     "output_type": "stream",
     "text": [
      "文件夹 D:/Project/data/Project_CodeNet_Python800\\p02272 中加载了 300 个文档。\n",
      "正在处理文件夹: D:/Project/data/Project_CodeNet_Python800\\p03033\n"
     ]
    },
    {
     "name": "stderr",
     "output_type": "stream",
     "text": [
      "100%|██████████| 300/300 [00:00<00:00, 3920.46it/s]\n"
     ]
    },
    {
     "name": "stdout",
     "output_type": "stream",
     "text": [
      "文件夹 D:/Project/data/Project_CodeNet_Python800\\p03033 中加载了 300 个文档。\n",
      "正在处理文件夹: D:/Project/data/Project_CodeNet_Python800\\p03012\n"
     ]
    },
    {
     "name": "stderr",
     "output_type": "stream",
     "text": [
      "100%|██████████| 300/300 [00:00<00:00, 3929.26it/s]\n"
     ]
    },
    {
     "name": "stdout",
     "output_type": "stream",
     "text": [
      "文件夹 D:/Project/data/Project_CodeNet_Python800\\p03012 中加载了 300 个文档。\n",
      "正在处理文件夹: D:/Project/data/Project_CodeNet_Python800\\p03944\n"
     ]
    },
    {
     "name": "stderr",
     "output_type": "stream",
     "text": [
      "100%|██████████| 300/300 [00:00<00:00, 4006.68it/s]\n"
     ]
    },
    {
     "name": "stdout",
     "output_type": "stream",
     "text": [
      "文件夹 D:/Project/data/Project_CodeNet_Python800\\p03944 中加载了 300 个文档。\n",
      "正在处理文件夹: D:/Project/data/Project_CodeNet_Python800\\p03387\n"
     ]
    },
    {
     "name": "stderr",
     "output_type": "stream",
     "text": [
      "100%|██████████| 300/300 [00:00<00:00, 4025.84it/s]\n"
     ]
    },
    {
     "name": "stdout",
     "output_type": "stream",
     "text": [
      "文件夹 D:/Project/data/Project_CodeNet_Python800\\p03387 中加载了 300 个文档。\n",
      "正在处理文件夹: D:/Project/data/Project_CodeNet_Python800\\p03719\n"
     ]
    },
    {
     "name": "stderr",
     "output_type": "stream",
     "text": [
      "100%|██████████| 300/300 [00:00<00:00, 4167.55it/s]\n"
     ]
    },
    {
     "name": "stdout",
     "output_type": "stream",
     "text": [
      "文件夹 D:/Project/data/Project_CodeNet_Python800\\p03719 中加载了 300 个文档。\n",
      "正在处理文件夹: D:/Project/data/Project_CodeNet_Python800\\p04012\n"
     ]
    },
    {
     "name": "stderr",
     "output_type": "stream",
     "text": [
      "100%|██████████| 300/300 [00:00<00:00, 4056.71it/s]\n"
     ]
    },
    {
     "name": "stdout",
     "output_type": "stream",
     "text": [
      "文件夹 D:/Project/data/Project_CodeNet_Python800\\p04012 中加载了 300 个文档。\n",
      "正在处理文件夹: D:/Project/data/Project_CodeNet_Python800\\p03315\n"
     ]
    },
    {
     "name": "stderr",
     "output_type": "stream",
     "text": [
      "100%|██████████| 300/300 [00:00<00:00, 3220.49it/s]\n"
     ]
    },
    {
     "name": "stdout",
     "output_type": "stream",
     "text": [
      "文件夹 D:/Project/data/Project_CodeNet_Python800\\p03315 中加载了 300 个文档。\n",
      "正在处理文件夹: D:/Project/data/Project_CodeNet_Python800\\p03433\n"
     ]
    },
    {
     "name": "stderr",
     "output_type": "stream",
     "text": [
      "100%|██████████| 300/300 [00:00<00:00, 3919.45it/s]\n"
     ]
    },
    {
     "name": "stdout",
     "output_type": "stream",
     "text": [
      "文件夹 D:/Project/data/Project_CodeNet_Python800\\p03433 中加载了 300 个文档。\n",
      "正在处理文件夹: D:/Project/data/Project_CodeNet_Python800\\p03327\n"
     ]
    },
    {
     "name": "stderr",
     "output_type": "stream",
     "text": [
      "100%|██████████| 300/300 [00:00<00:00, 4054.10it/s]\n"
     ]
    },
    {
     "name": "stdout",
     "output_type": "stream",
     "text": [
      "文件夹 D:/Project/data/Project_CodeNet_Python800\\p03327 中加载了 300 个文档。\n",
      "正在处理文件夹: D:/Project/data/Project_CodeNet_Python800\\p02609\n"
     ]
    },
    {
     "name": "stderr",
     "output_type": "stream",
     "text": [
      "100%|██████████| 300/300 [00:00<00:00, 3944.62it/s]\n"
     ]
    },
    {
     "name": "stdout",
     "output_type": "stream",
     "text": [
      "文件夹 D:/Project/data/Project_CodeNet_Python800\\p02609 中加载了 300 个文档。\n",
      "正在处理文件夹: D:/Project/data/Project_CodeNet_Python800\\p02999\n"
     ]
    },
    {
     "name": "stderr",
     "output_type": "stream",
     "text": [
      "100%|██████████| 300/300 [00:00<00:00, 4053.37it/s]\n"
     ]
    },
    {
     "name": "stdout",
     "output_type": "stream",
     "text": [
      "文件夹 D:/Project/data/Project_CodeNet_Python800\\p02999 中加载了 300 个文档。\n",
      "正在处理文件夹: D:/Project/data/Project_CodeNet_Python800\\p03643\n"
     ]
    },
    {
     "name": "stderr",
     "output_type": "stream",
     "text": [
      "100%|██████████| 300/300 [00:00<00:00, 3999.50it/s]\n"
     ]
    },
    {
     "name": "stdout",
     "output_type": "stream",
     "text": [
      "文件夹 D:/Project/data/Project_CodeNet_Python800\\p03643 中加载了 300 个文档。\n",
      "正在处理文件夹: D:/Project/data/Project_CodeNet_Python800\\p03046\n"
     ]
    },
    {
     "name": "stderr",
     "output_type": "stream",
     "text": [
      "100%|██████████| 300/300 [00:00<00:00, 4053.68it/s]\n"
     ]
    },
    {
     "name": "stdout",
     "output_type": "stream",
     "text": [
      "文件夹 D:/Project/data/Project_CodeNet_Python800\\p03046 中加载了 300 个文档。\n",
      "正在处理文件夹: D:/Project/data/Project_CodeNet_Python800\\p02813\n"
     ]
    },
    {
     "name": "stderr",
     "output_type": "stream",
     "text": [
      "100%|██████████| 300/300 [00:00<00:00, 3807.26it/s]\n"
     ]
    },
    {
     "name": "stdout",
     "output_type": "stream",
     "text": [
      "文件夹 D:/Project/data/Project_CodeNet_Python800\\p02813 中加载了 300 个文档。\n",
      "正在处理文件夹: D:/Project/data/Project_CodeNet_Python800\\p02412\n"
     ]
    },
    {
     "name": "stderr",
     "output_type": "stream",
     "text": [
      "100%|██████████| 300/300 [00:00<00:00, 4021.49it/s]\n"
     ]
    },
    {
     "name": "stdout",
     "output_type": "stream",
     "text": [
      "文件夹 D:/Project/data/Project_CodeNet_Python800\\p02412 中加载了 300 个文档。\n",
      "正在处理文件夹: D:/Project/data/Project_CodeNet_Python800\\p02838\n"
     ]
    },
    {
     "name": "stderr",
     "output_type": "stream",
     "text": [
      "100%|██████████| 300/300 [00:00<00:00, 3794.08it/s]\n"
     ]
    },
    {
     "name": "stdout",
     "output_type": "stream",
     "text": [
      "文件夹 D:/Project/data/Project_CodeNet_Python800\\p02838 中加载了 300 个文档。\n",
      "正在处理文件夹: D:/Project/data/Project_CodeNet_Python800\\p02715\n"
     ]
    },
    {
     "name": "stderr",
     "output_type": "stream",
     "text": [
      "100%|██████████| 300/300 [00:00<00:00, 3984.44it/s]\n"
     ]
    },
    {
     "name": "stdout",
     "output_type": "stream",
     "text": [
      "文件夹 D:/Project/data/Project_CodeNet_Python800\\p02715 中加载了 300 个文档。\n",
      "正在处理文件夹: D:/Project/data/Project_CodeNet_Python800\\p02420\n"
     ]
    },
    {
     "name": "stderr",
     "output_type": "stream",
     "text": [
      "100%|██████████| 300/300 [00:00<00:00, 4108.68it/s]\n"
     ]
    },
    {
     "name": "stdout",
     "output_type": "stream",
     "text": [
      "文件夹 D:/Project/data/Project_CodeNet_Python800\\p02420 中加载了 300 个文档。\n",
      "正在处理文件夹: D:/Project/data/Project_CodeNet_Python800\\p03804\n"
     ]
    },
    {
     "name": "stderr",
     "output_type": "stream",
     "text": [
      "100%|██████████| 300/300 [00:00<00:00, 4022.88it/s]\n"
     ]
    },
    {
     "name": "stdout",
     "output_type": "stream",
     "text": [
      "文件夹 D:/Project/data/Project_CodeNet_Python800\\p03804 中加载了 300 个文档。\n",
      "正在处理文件夹: D:/Project/data/Project_CodeNet_Python800\\p03568\n"
     ]
    },
    {
     "name": "stderr",
     "output_type": "stream",
     "text": [
      "100%|██████████| 300/300 [00:00<00:00, 3133.94it/s]\n"
     ]
    },
    {
     "name": "stdout",
     "output_type": "stream",
     "text": [
      "文件夹 D:/Project/data/Project_CodeNet_Python800\\p03568 中加载了 300 个文档。\n",
      "正在处理文件夹: D:/Project/data/Project_CodeNet_Python800\\p03828\n"
     ]
    },
    {
     "name": "stderr",
     "output_type": "stream",
     "text": [
      "100%|██████████| 300/300 [00:00<00:00, 4000.12it/s]\n"
     ]
    },
    {
     "name": "stdout",
     "output_type": "stream",
     "text": [
      "文件夹 D:/Project/data/Project_CodeNet_Python800\\p03828 中加载了 300 个文档。\n",
      "正在处理文件夹: D:/Project/data/Project_CodeNet_Python800\\p03263\n"
     ]
    },
    {
     "name": "stderr",
     "output_type": "stream",
     "text": [
      "100%|██████████| 300/300 [00:00<00:00, 3947.42it/s]\n"
     ]
    },
    {
     "name": "stdout",
     "output_type": "stream",
     "text": [
      "文件夹 D:/Project/data/Project_CodeNet_Python800\\p03263 中加载了 300 个文档。\n",
      "正在处理文件夹: D:/Project/data/Project_CodeNet_Python800\\p03591\n"
     ]
    },
    {
     "name": "stderr",
     "output_type": "stream",
     "text": [
      "100%|██████████| 300/300 [00:00<00:00, 3899.12it/s]\n"
     ]
    },
    {
     "name": "stdout",
     "output_type": "stream",
     "text": [
      "文件夹 D:/Project/data/Project_CodeNet_Python800\\p03591 中加载了 300 个文档。\n",
      "正在处理文件夹: D:/Project/data/Project_CodeNet_Python800\\p03815\n"
     ]
    },
    {
     "name": "stderr",
     "output_type": "stream",
     "text": [
      "100%|██████████| 300/300 [00:00<00:00, 4008.31it/s]\n"
     ]
    },
    {
     "name": "stdout",
     "output_type": "stream",
     "text": [
      "文件夹 D:/Project/data/Project_CodeNet_Python800\\p03815 中加载了 300 个文档。\n",
      "正在处理文件夹: D:/Project/data/Project_CodeNet_Python800\\p02548\n"
     ]
    },
    {
     "name": "stderr",
     "output_type": "stream",
     "text": [
      "100%|██████████| 300/300 [00:00<00:00, 3971.34it/s]\n"
     ]
    },
    {
     "name": "stdout",
     "output_type": "stream",
     "text": [
      "文件夹 D:/Project/data/Project_CodeNet_Python800\\p02548 中加载了 300 个文档。\n",
      "正在处理文件夹: D:/Project/data/Project_CodeNet_Python800\\p02760\n"
     ]
    },
    {
     "name": "stderr",
     "output_type": "stream",
     "text": [
      "100%|██████████| 300/300 [00:00<00:00, 3697.06it/s]\n"
     ]
    },
    {
     "name": "stdout",
     "output_type": "stream",
     "text": [
      "文件夹 D:/Project/data/Project_CodeNet_Python800\\p02760 中加载了 300 个文档。\n",
      "正在处理文件夹: D:/Project/data/Project_CodeNet_Python800\\p03767\n"
     ]
    },
    {
     "name": "stderr",
     "output_type": "stream",
     "text": [
      "100%|██████████| 300/300 [00:00<00:00, 3999.22it/s]\n"
     ]
    },
    {
     "name": "stdout",
     "output_type": "stream",
     "text": [
      "文件夹 D:/Project/data/Project_CodeNet_Python800\\p03767 中加载了 300 个文档。\n",
      "正在处理文件夹: D:/Project/data/Project_CodeNet_Python800\\p02970\n"
     ]
    },
    {
     "name": "stderr",
     "output_type": "stream",
     "text": [
      "100%|██████████| 300/300 [00:00<00:00, 3896.18it/s]\n"
     ]
    },
    {
     "name": "stdout",
     "output_type": "stream",
     "text": [
      "文件夹 D:/Project/data/Project_CodeNet_Python800\\p02970 中加载了 300 个文档。\n",
      "正在处理文件夹: D:/Project/data/Project_CodeNet_Python800\\p03836\n"
     ]
    },
    {
     "name": "stderr",
     "output_type": "stream",
     "text": [
      "100%|██████████| 300/300 [00:00<00:00, 3703.70it/s]\n"
     ]
    },
    {
     "name": "stdout",
     "output_type": "stream",
     "text": [
      "文件夹 D:/Project/data/Project_CodeNet_Python800\\p03836 中加载了 300 个文档。\n",
      "正在处理文件夹: D:/Project/data/Project_CodeNet_Python800\\p04013\n"
     ]
    },
    {
     "name": "stderr",
     "output_type": "stream",
     "text": [
      "100%|██████████| 300/300 [00:00<00:00, 3568.65it/s]\n"
     ]
    },
    {
     "name": "stdout",
     "output_type": "stream",
     "text": [
      "文件夹 D:/Project/data/Project_CodeNet_Python800\\p04013 中加载了 300 个文档。\n",
      "正在处理文件夹: D:/Project/data/Project_CodeNet_Python800\\p02917\n"
     ]
    },
    {
     "name": "stderr",
     "output_type": "stream",
     "text": [
      "100%|██████████| 300/300 [00:00<00:00, 4008.84it/s]\n"
     ]
    },
    {
     "name": "stdout",
     "output_type": "stream",
     "text": [
      "文件夹 D:/Project/data/Project_CodeNet_Python800\\p02917 中加载了 300 个文档。\n",
      "正在处理文件夹: D:/Project/data/Project_CodeNet_Python800\\p03565\n"
     ]
    },
    {
     "name": "stderr",
     "output_type": "stream",
     "text": [
      "100%|██████████| 300/300 [00:00<00:00, 4054.10it/s]\n"
     ]
    },
    {
     "name": "stdout",
     "output_type": "stream",
     "text": [
      "文件夹 D:/Project/data/Project_CodeNet_Python800\\p03565 中加载了 300 个文档。\n",
      "正在处理文件夹: D:/Project/data/Project_CodeNet_Python800\\p02833\n"
     ]
    },
    {
     "name": "stderr",
     "output_type": "stream",
     "text": [
      "100%|██████████| 300/300 [00:00<00:00, 3000.06it/s]\n"
     ]
    },
    {
     "name": "stdout",
     "output_type": "stream",
     "text": [
      "文件夹 D:/Project/data/Project_CodeNet_Python800\\p02833 中加载了 300 个文档。\n",
      "正在处理文件夹: D:/Project/data/Project_CodeNet_Python800\\p02720\n"
     ]
    },
    {
     "name": "stderr",
     "output_type": "stream",
     "text": [
      "100%|██████████| 300/300 [00:00<00:00, 1562.50it/s]\n"
     ]
    },
    {
     "name": "stdout",
     "output_type": "stream",
     "text": [
      "文件夹 D:/Project/data/Project_CodeNet_Python800\\p02720 中加载了 300 个文档。\n",
      "正在处理文件夹: D:/Project/data/Project_CodeNet_Python800\\p02608\n"
     ]
    },
    {
     "name": "stderr",
     "output_type": "stream",
     "text": [
      "100%|██████████| 300/300 [00:00<00:00, 3750.79it/s]\n"
     ]
    },
    {
     "name": "stdout",
     "output_type": "stream",
     "text": [
      "文件夹 D:/Project/data/Project_CodeNet_Python800\\p02608 中加载了 300 个文档。\n",
      "正在处理文件夹: D:/Project/data/Project_CodeNet_Python800\\p03148\n"
     ]
    },
    {
     "name": "stderr",
     "output_type": "stream",
     "text": [
      "100%|██████████| 300/300 [00:00<00:00, 4015.72it/s]\n"
     ]
    },
    {
     "name": "stdout",
     "output_type": "stream",
     "text": [
      "文件夹 D:/Project/data/Project_CodeNet_Python800\\p03148 中加载了 300 个文档。\n",
      "正在处理文件夹: D:/Project/data/Project_CodeNet_Python800\\p02573\n"
     ]
    },
    {
     "name": "stderr",
     "output_type": "stream",
     "text": [
      "100%|██████████| 300/300 [00:00<00:00, 4024.84it/s]\n"
     ]
    },
    {
     "name": "stdout",
     "output_type": "stream",
     "text": [
      "文件夹 D:/Project/data/Project_CodeNet_Python800\\p02573 中加载了 300 个文档。\n",
      "正在处理文件夹: D:/Project/data/Project_CodeNet_Python800\\p02665\n"
     ]
    },
    {
     "name": "stderr",
     "output_type": "stream",
     "text": [
      "100%|██████████| 300/300 [00:00<00:00, 3973.18it/s]\n"
     ]
    },
    {
     "name": "stdout",
     "output_type": "stream",
     "text": [
      "文件夹 D:/Project/data/Project_CodeNet_Python800\\p02665 中加载了 300 个文档。\n",
      "正在处理文件夹: D:/Project/data/Project_CodeNet_Python800\\p03145\n"
     ]
    },
    {
     "name": "stderr",
     "output_type": "stream",
     "text": [
      "100%|██████████| 300/300 [00:00<00:00, 3943.42it/s]\n"
     ]
    },
    {
     "name": "stdout",
     "output_type": "stream",
     "text": [
      "文件夹 D:/Project/data/Project_CodeNet_Python800\\p03145 中加载了 300 个文档。\n",
      "正在处理文件夹: D:/Project/data/Project_CodeNet_Python800\\p03786\n"
     ]
    },
    {
     "name": "stderr",
     "output_type": "stream",
     "text": [
      "100%|██████████| 300/300 [00:00<00:00, 4053.36it/s]\n"
     ]
    },
    {
     "name": "stdout",
     "output_type": "stream",
     "text": [
      "文件夹 D:/Project/data/Project_CodeNet_Python800\\p03786 中加载了 300 个文档。\n",
      "正在处理文件夹: D:/Project/data/Project_CodeNet_Python800\\p02709\n"
     ]
    },
    {
     "name": "stderr",
     "output_type": "stream",
     "text": [
      "100%|██████████| 300/300 [00:00<00:00, 3999.45it/s]\n"
     ]
    },
    {
     "name": "stdout",
     "output_type": "stream",
     "text": [
      "文件夹 D:/Project/data/Project_CodeNet_Python800\\p02709 中加载了 300 个文档。\n",
      "正在处理文件夹: D:/Project/data/Project_CodeNet_Python800\\p03043\n"
     ]
    },
    {
     "name": "stderr",
     "output_type": "stream",
     "text": [
      "100%|██████████| 300/300 [00:00<00:00, 3703.79it/s]\n"
     ]
    },
    {
     "name": "stdout",
     "output_type": "stream",
     "text": [
      "文件夹 D:/Project/data/Project_CodeNet_Python800\\p03043 中加载了 300 个文档。\n",
      "正在处理文件夹: D:/Project/data/Project_CodeNet_Python800\\p03108\n"
     ]
    },
    {
     "name": "stderr",
     "output_type": "stream",
     "text": [
      "100%|██████████| 300/300 [00:00<00:00, 3756.00it/s]\n"
     ]
    },
    {
     "name": "stdout",
     "output_type": "stream",
     "text": [
      "文件夹 D:/Project/data/Project_CodeNet_Python800\\p03108 中加载了 300 个文档。\n",
      "正在处理文件夹: D:/Project/data/Project_CodeNet_Python800\\p02694\n"
     ]
    },
    {
     "name": "stderr",
     "output_type": "stream",
     "text": [
      "100%|██████████| 300/300 [00:00<00:00, 4124.79it/s]\n"
     ]
    },
    {
     "name": "stdout",
     "output_type": "stream",
     "text": [
      "文件夹 D:/Project/data/Project_CodeNet_Python800\\p02694 中加载了 300 个文档。\n",
      "正在处理文件夹: D:/Project/data/Project_CodeNet_Python800\\p03426\n"
     ]
    },
    {
     "name": "stderr",
     "output_type": "stream",
     "text": [
      "100%|██████████| 300/300 [00:00<00:00, 3296.73it/s]\n"
     ]
    },
    {
     "name": "stdout",
     "output_type": "stream",
     "text": [
      "文件夹 D:/Project/data/Project_CodeNet_Python800\\p03426 中加载了 300 个文档。\n",
      "正在处理文件夹: D:/Project/data/Project_CodeNet_Python800\\p02391\n"
     ]
    },
    {
     "name": "stderr",
     "output_type": "stream",
     "text": [
      "100%|██████████| 300/300 [00:00<00:00, 3972.64it/s]\n"
     ]
    },
    {
     "name": "stdout",
     "output_type": "stream",
     "text": [
      "文件夹 D:/Project/data/Project_CodeNet_Python800\\p02391 中加载了 300 个文档。\n",
      "正在处理文件夹: D:/Project/data/Project_CodeNet_Python800\\p02618\n"
     ]
    },
    {
     "name": "stderr",
     "output_type": "stream",
     "text": [
      "100%|██████████| 300/300 [00:00<00:00, 3634.36it/s]\n"
     ]
    },
    {
     "name": "stdout",
     "output_type": "stream",
     "text": [
      "文件夹 D:/Project/data/Project_CodeNet_Python800\\p02618 中加载了 300 个文档。\n",
      "正在处理文件夹: D:/Project/data/Project_CodeNet_Python800\\p02843\n"
     ]
    },
    {
     "name": "stderr",
     "output_type": "stream",
     "text": [
      "100%|██████████| 300/300 [00:00<00:00, 3946.92it/s]\n"
     ]
    },
    {
     "name": "stdout",
     "output_type": "stream",
     "text": [
      "文件夹 D:/Project/data/Project_CodeNet_Python800\\p02843 中加载了 300 个文档。\n",
      "正在处理文件夹: D:/Project/data/Project_CodeNet_Python800\\p02928\n"
     ]
    },
    {
     "name": "stderr",
     "output_type": "stream",
     "text": [
      "100%|██████████| 300/300 [00:00<00:00, 4000.76it/s]\n"
     ]
    },
    {
     "name": "stdout",
     "output_type": "stream",
     "text": [
      "文件夹 D:/Project/data/Project_CodeNet_Python800\\p02928 中加载了 300 个文档。\n",
      "正在处理文件夹: D:/Project/data/Project_CodeNet_Python800\\p03230\n"
     ]
    },
    {
     "name": "stderr",
     "output_type": "stream",
     "text": [
      "100%|██████████| 300/300 [00:00<00:00, 3895.66it/s]\n"
     ]
    },
    {
     "name": "stdout",
     "output_type": "stream",
     "text": [
      "文件夹 D:/Project/data/Project_CodeNet_Python800\\p03230 中加载了 300 个文档。\n",
      "正在处理文件夹: D:/Project/data/Project_CodeNet_Python800\\p03125\n"
     ]
    },
    {
     "name": "stderr",
     "output_type": "stream",
     "text": [
      "100%|██████████| 300/300 [00:00<00:00, 4054.52it/s]\n"
     ]
    },
    {
     "name": "stdout",
     "output_type": "stream",
     "text": [
      "文件夹 D:/Project/data/Project_CodeNet_Python800\\p03125 中加载了 300 个文档。\n",
      "正在处理文件夹: D:/Project/data/Project_CodeNet_Python800\\p02773\n"
     ]
    },
    {
     "name": "stderr",
     "output_type": "stream",
     "text": [
      "100%|██████████| 300/300 [00:00<00:00, 3999.62it/s]\n"
     ]
    },
    {
     "name": "stdout",
     "output_type": "stream",
     "text": [
      "文件夹 D:/Project/data/Project_CodeNet_Python800\\p02773 中加载了 300 个文档。\n",
      "正在处理文件夹: D:/Project/data/Project_CodeNet_Python800\\p03079\n"
     ]
    },
    {
     "name": "stderr",
     "output_type": "stream",
     "text": [
      "100%|██████████| 300/300 [00:00<00:00, 4000.09it/s]\n"
     ]
    },
    {
     "name": "stdout",
     "output_type": "stream",
     "text": [
      "文件夹 D:/Project/data/Project_CodeNet_Python800\\p03079 中加载了 300 个文档。\n",
      "正在处理文件夹: D:/Project/data/Project_CodeNet_Python800\\p04011\n"
     ]
    },
    {
     "name": "stderr",
     "output_type": "stream",
     "text": [
      "100%|██████████| 300/300 [00:00<00:00, 4072.15it/s]\n"
     ]
    },
    {
     "name": "stdout",
     "output_type": "stream",
     "text": [
      "文件夹 D:/Project/data/Project_CodeNet_Python800\\p04011 中加载了 300 个文档。\n",
      "正在处理文件夹: D:/Project/data/Project_CodeNet_Python800\\p03434\n"
     ]
    },
    {
     "name": "stderr",
     "output_type": "stream",
     "text": [
      "100%|██████████| 300/300 [00:00<00:00, 4053.51it/s]\n"
     ]
    },
    {
     "name": "stdout",
     "output_type": "stream",
     "text": [
      "文件夹 D:/Project/data/Project_CodeNet_Python800\\p03434 中加载了 300 个文档。\n",
      "正在处理文件夹: D:/Project/data/Project_CodeNet_Python800\\p03606\n"
     ]
    },
    {
     "name": "stderr",
     "output_type": "stream",
     "text": [
      "100%|██████████| 300/300 [00:00<00:00, 3571.41it/s]\n"
     ]
    },
    {
     "name": "stdout",
     "output_type": "stream",
     "text": [
      "文件夹 D:/Project/data/Project_CodeNet_Python800\\p03606 中加载了 300 个文档。\n",
      "正在处理文件夹: D:/Project/data/Project_CodeNet_Python800\\p02603\n"
     ]
    },
    {
     "name": "stderr",
     "output_type": "stream",
     "text": [
      "100%|██████████| 300/300 [00:00<00:00, 3099.47it/s]\n"
     ]
    },
    {
     "name": "stdout",
     "output_type": "stream",
     "text": [
      "文件夹 D:/Project/data/Project_CodeNet_Python800\\p02603 中加载了 300 个文档。\n",
      "正在处理文件夹: D:/Project/data/Project_CodeNet_Python800\\p02989\n"
     ]
    },
    {
     "name": "stderr",
     "output_type": "stream",
     "text": [
      "100%|██████████| 300/300 [00:00<00:00, 3701.31it/s]\n"
     ]
    },
    {
     "name": "stdout",
     "output_type": "stream",
     "text": [
      "文件夹 D:/Project/data/Project_CodeNet_Python800\\p02989 中加载了 300 个文档。\n",
      "正在处理文件夹: D:/Project/data/Project_CodeNet_Python800\\p02921\n"
     ]
    },
    {
     "name": "stderr",
     "output_type": "stream",
     "text": [
      "100%|██████████| 300/300 [00:00<00:00, 4032.39it/s]\n"
     ]
    },
    {
     "name": "stdout",
     "output_type": "stream",
     "text": [
      "文件夹 D:/Project/data/Project_CodeNet_Python800\\p02921 中加载了 300 个文档。\n",
      "正在处理文件夹: D:/Project/data/Project_CodeNet_Python800\\p02679\n"
     ]
    },
    {
     "name": "stderr",
     "output_type": "stream",
     "text": [
      "100%|██████████| 300/300 [00:00<00:00, 3893.83it/s]\n"
     ]
    },
    {
     "name": "stdout",
     "output_type": "stream",
     "text": [
      "文件夹 D:/Project/data/Project_CodeNet_Python800\\p02679 中加载了 300 个文档。\n",
      "正在处理文件夹: D:/Project/data/Project_CodeNet_Python800\\p03494\n"
     ]
    },
    {
     "name": "stderr",
     "output_type": "stream",
     "text": [
      "100%|██████████| 300/300 [00:00<00:00, 4054.09it/s]\n"
     ]
    },
    {
     "name": "stdout",
     "output_type": "stream",
     "text": [
      "文件夹 D:/Project/data/Project_CodeNet_Python800\\p03494 中加载了 300 个文档。\n",
      "正在处理文件夹: D:/Project/data/Project_CodeNet_Python800\\p02975\n"
     ]
    },
    {
     "name": "stderr",
     "output_type": "stream",
     "text": [
      "100%|██████████| 300/300 [00:00<00:00, 3970.02it/s]\n"
     ]
    },
    {
     "name": "stdout",
     "output_type": "stream",
     "text": [
      "文件夹 D:/Project/data/Project_CodeNet_Python800\\p02975 中加载了 300 个文档。\n",
      "正在处理文件夹: D:/Project/data/Project_CodeNet_Python800\\p02657\n"
     ]
    },
    {
     "name": "stderr",
     "output_type": "stream",
     "text": [
      "100%|██████████| 300/300 [00:00<00:00, 3681.10it/s]\n"
     ]
    },
    {
     "name": "stdout",
     "output_type": "stream",
     "text": [
      "文件夹 D:/Project/data/Project_CodeNet_Python800\\p02657 中加载了 300 个文档。\n",
      "正在处理文件夹: D:/Project/data/Project_CodeNet_Python800\\p02408\n"
     ]
    },
    {
     "name": "stderr",
     "output_type": "stream",
     "text": [
      "100%|██████████| 300/300 [00:00<00:00, 4006.63it/s]\n"
     ]
    },
    {
     "name": "stdout",
     "output_type": "stream",
     "text": [
      "文件夹 D:/Project/data/Project_CodeNet_Python800\\p02408 中加载了 300 个文档。\n",
      "正在处理文件夹: D:/Project/data/Project_CodeNet_Python800\\p02859\n"
     ]
    },
    {
     "name": "stderr",
     "output_type": "stream",
     "text": [
      "100%|██████████| 300/300 [00:00<00:00, 4076.92it/s]\n"
     ]
    },
    {
     "name": "stdout",
     "output_type": "stream",
     "text": [
      "文件夹 D:/Project/data/Project_CodeNet_Python800\\p02859 中加载了 300 个文档。\n",
      "正在处理文件夹: D:/Project/data/Project_CodeNet_Python800\\p03470\n"
     ]
    },
    {
     "name": "stderr",
     "output_type": "stream",
     "text": [
      "100%|██████████| 300/300 [00:00<00:00, 4054.24it/s]\n"
     ]
    },
    {
     "name": "stdout",
     "output_type": "stream",
     "text": [
      "文件夹 D:/Project/data/Project_CodeNet_Python800\\p03470 中加载了 300 个文档。\n",
      "正在处理文件夹: D:/Project/data/Project_CodeNet_Python800\\p03130\n"
     ]
    },
    {
     "name": "stderr",
     "output_type": "stream",
     "text": [
      "100%|██████████| 300/300 [00:00<00:00, 4011.13it/s]\n"
     ]
    },
    {
     "name": "stdout",
     "output_type": "stream",
     "text": [
      "文件夹 D:/Project/data/Project_CodeNet_Python800\\p03130 中加载了 300 个文档。\n",
      "正在处理文件夹: D:/Project/data/Project_CodeNet_Python800\\p03776\n"
     ]
    },
    {
     "name": "stderr",
     "output_type": "stream",
     "text": [
      "100%|██████████| 300/300 [00:00<00:00, 3895.54it/s]\n"
     ]
    },
    {
     "name": "stdout",
     "output_type": "stream",
     "text": [
      "文件夹 D:/Project/data/Project_CodeNet_Python800\\p03776 中加载了 300 个文档。\n",
      "正在处理文件夹: D:/Project/data/Project_CodeNet_Python800\\p03673\n"
     ]
    },
    {
     "name": "stderr",
     "output_type": "stream",
     "text": [
      "100%|██████████| 300/300 [00:00<00:00, 3189.07it/s]\n"
     ]
    },
    {
     "name": "stdout",
     "output_type": "stream",
     "text": [
      "文件夹 D:/Project/data/Project_CodeNet_Python800\\p03673 中加载了 300 个文档。\n",
      "正在处理文件夹: D:/Project/data/Project_CodeNet_Python800\\p02662\n"
     ]
    },
    {
     "name": "stderr",
     "output_type": "stream",
     "text": [
      "100%|██████████| 300/300 [00:00<00:00, 3901.00it/s]\n"
     ]
    },
    {
     "name": "stdout",
     "output_type": "stream",
     "text": [
      "文件夹 D:/Project/data/Project_CodeNet_Python800\\p02662 中加载了 300 个文档。\n",
      "正在处理文件夹: D:/Project/data/Project_CodeNet_Python800\\p02578\n"
     ]
    },
    {
     "name": "stderr",
     "output_type": "stream",
     "text": [
      "100%|██████████| 300/300 [00:00<00:00, 4111.12it/s]\n"
     ]
    },
    {
     "name": "stdout",
     "output_type": "stream",
     "text": [
      "文件夹 D:/Project/data/Project_CodeNet_Python800\\p02578 中加载了 300 个文档。\n",
      "正在处理文件夹: D:/Project/data/Project_CodeNet_Python800\\p02959\n"
     ]
    },
    {
     "name": "stderr",
     "output_type": "stream",
     "text": [
      "100%|██████████| 300/300 [00:00<00:00, 4061.83it/s]\n"
     ]
    },
    {
     "name": "stdout",
     "output_type": "stream",
     "text": [
      "文件夹 D:/Project/data/Project_CodeNet_Python800\\p02959 中加载了 300 个文档。\n",
      "正在处理文件夹: D:/Project/data/Project_CodeNet_Python800\\p02779\n"
     ]
    },
    {
     "name": "stderr",
     "output_type": "stream",
     "text": [
      "100%|██████████| 300/300 [00:00<00:00, 4000.25it/s]\n"
     ]
    },
    {
     "name": "stdout",
     "output_type": "stream",
     "text": [
      "文件夹 D:/Project/data/Project_CodeNet_Python800\\p02779 中加载了 300 个文档。\n",
      "正在处理文件夹: D:/Project/data/Project_CodeNet_Python800\\p03401\n"
     ]
    },
    {
     "name": "stderr",
     "output_type": "stream",
     "text": [
      "100%|██████████| 300/300 [00:00<00:00, 3999.53it/s]\n"
     ]
    },
    {
     "name": "stdout",
     "output_type": "stream",
     "text": [
      "文件夹 D:/Project/data/Project_CodeNet_Python800\\p03401 中加载了 300 个文档。\n",
      "正在处理文件夹: D:/Project/data/Project_CodeNet_Python800\\p03659\n"
     ]
    },
    {
     "name": "stderr",
     "output_type": "stream",
     "text": [
      "100%|██████████| 300/300 [00:00<00:00, 3947.37it/s]\n"
     ]
    },
    {
     "name": "stdout",
     "output_type": "stream",
     "text": [
      "文件夹 D:/Project/data/Project_CodeNet_Python800\\p03659 中加载了 300 个文档。\n",
      "正在处理文件夹: D:/Project/data/Project_CodeNet_Python800\\p03501\n"
     ]
    },
    {
     "name": "stderr",
     "output_type": "stream",
     "text": [
      "100%|██████████| 300/300 [00:00<00:00, 4000.11it/s]\n"
     ]
    },
    {
     "name": "stdout",
     "output_type": "stream",
     "text": [
      "文件夹 D:/Project/data/Project_CodeNet_Python800\\p03501 中加载了 300 个文档。\n",
      "正在处理文件夹: D:/Project/data/Project_CodeNet_Python800\\p02612\n"
     ]
    },
    {
     "name": "stderr",
     "output_type": "stream",
     "text": [
      "100%|██████████| 300/300 [00:00<00:00, 4078.16it/s]\n"
     ]
    },
    {
     "name": "stdout",
     "output_type": "stream",
     "text": [
      "文件夹 D:/Project/data/Project_CodeNet_Python800\\p02612 中加载了 300 个文档。\n",
      "正在处理文件夹: D:/Project/data/Project_CodeNet_Python800\\p03523\n"
     ]
    },
    {
     "name": "stderr",
     "output_type": "stream",
     "text": [
      "100%|██████████| 300/300 [00:00<00:00, 3920.04it/s]\n"
     ]
    },
    {
     "name": "stdout",
     "output_type": "stream",
     "text": [
      "文件夹 D:/Project/data/Project_CodeNet_Python800\\p03523 中加载了 300 个文档。\n",
      "正在处理文件夹: D:/Project/data/Project_CodeNet_Python800\\p02971\n"
     ]
    },
    {
     "name": "stderr",
     "output_type": "stream",
     "text": [
      "100%|██████████| 300/300 [00:00<00:00, 3849.80it/s]\n"
     ]
    },
    {
     "name": "stdout",
     "output_type": "stream",
     "text": [
      "文件夹 D:/Project/data/Project_CodeNet_Python800\\p02971 中加载了 300 个文档。\n",
      "正在处理文件夹: D:/Project/data/Project_CodeNet_Python800\\p03826\n"
     ]
    },
    {
     "name": "stderr",
     "output_type": "stream",
     "text": [
      "100%|██████████| 300/300 [00:00<00:00, 3989.46it/s]\n"
     ]
    },
    {
     "name": "stdout",
     "output_type": "stream",
     "text": [
      "文件夹 D:/Project/data/Project_CodeNet_Python800\\p03826 中加载了 300 个文档。\n",
      "正在处理文件夹: D:/Project/data/Project_CodeNet_Python800\\p03447\n"
     ]
    },
    {
     "name": "stderr",
     "output_type": "stream",
     "text": [
      "100%|██████████| 300/300 [00:00<00:00, 3207.55it/s]\n"
     ]
    },
    {
     "name": "stdout",
     "output_type": "stream",
     "text": [
      "文件夹 D:/Project/data/Project_CodeNet_Python800\\p03447 中加载了 300 个文档。\n",
      "正在处理文件夹: D:/Project/data/Project_CodeNet_Python800\\p02687\n"
     ]
    },
    {
     "name": "stderr",
     "output_type": "stream",
     "text": [
      "100%|██████████| 300/300 [00:00<00:00, 4053.47it/s]\n"
     ]
    },
    {
     "name": "stdout",
     "output_type": "stream",
     "text": [
      "文件夹 D:/Project/data/Project_CodeNet_Python800\\p02687 中加载了 300 个文档。\n",
      "正在处理文件夹: D:/Project/data/Project_CodeNet_Python800\\p03475\n"
     ]
    },
    {
     "name": "stderr",
     "output_type": "stream",
     "text": [
      "100%|██████████| 300/300 [00:00<00:00, 3449.49it/s]\n"
     ]
    },
    {
     "name": "stdout",
     "output_type": "stream",
     "text": [
      "文件夹 D:/Project/data/Project_CodeNet_Python800\\p03475 中加载了 300 个文档。\n",
      "正在处理文件夹: D:/Project/data/Project_CodeNet_Python800\\p03053\n"
     ]
    },
    {
     "name": "stderr",
     "output_type": "stream",
     "text": [
      "100%|██████████| 300/300 [00:00<00:00, 3899.95it/s]\n"
     ]
    },
    {
     "name": "stdout",
     "output_type": "stream",
     "text": [
      "文件夹 D:/Project/data/Project_CodeNet_Python800\\p03053 中加载了 300 个文档。\n",
      "正在处理文件夹: D:/Project/data/Project_CodeNet_Python800\\p02571\n"
     ]
    },
    {
     "name": "stderr",
     "output_type": "stream",
     "text": [
      "100%|██████████| 300/300 [00:00<00:00, 4054.15it/s]\n"
     ]
    },
    {
     "name": "stdout",
     "output_type": "stream",
     "text": [
      "文件夹 D:/Project/data/Project_CodeNet_Python800\\p02571 中加载了 300 个文档。\n",
      "正在处理文件夹: D:/Project/data/Project_CodeNet_Python800\\p03645\n"
     ]
    },
    {
     "name": "stderr",
     "output_type": "stream",
     "text": [
      "100%|██████████| 300/300 [00:00<00:00, 3753.58it/s]\n"
     ]
    },
    {
     "name": "stdout",
     "output_type": "stream",
     "text": [
      "文件夹 D:/Project/data/Project_CodeNet_Python800\\p03645 中加载了 300 个文档。\n",
      "正在处理文件夹: D:/Project/data/Project_CodeNet_Python800\\p03448\n"
     ]
    },
    {
     "name": "stderr",
     "output_type": "stream",
     "text": [
      "100%|██████████| 300/300 [00:00<00:00, 3970.68it/s]\n"
     ]
    },
    {
     "name": "stdout",
     "output_type": "stream",
     "text": [
      "文件夹 D:/Project/data/Project_CodeNet_Python800\\p03448 中加载了 300 个文档。\n",
      "正在处理文件夹: D:/Project/data/Project_CodeNet_Python800\\p03227\n"
     ]
    },
    {
     "name": "stderr",
     "output_type": "stream",
     "text": [
      "100%|██████████| 300/300 [00:00<00:00, 4025.95it/s]\n"
     ]
    },
    {
     "name": "stdout",
     "output_type": "stream",
     "text": [
      "文件夹 D:/Project/data/Project_CodeNet_Python800\\p03227 中加载了 300 个文档。\n",
      "正在处理文件夹: D:/Project/data/Project_CodeNet_Python800\\p02393\n"
     ]
    },
    {
     "name": "stderr",
     "output_type": "stream",
     "text": [
      "100%|██████████| 300/300 [00:00<00:00, 4077.19it/s]\n"
     ]
    },
    {
     "name": "stdout",
     "output_type": "stream",
     "text": [
      "文件夹 D:/Project/data/Project_CodeNet_Python800\\p02393 中加载了 300 个文档。\n",
      "正在处理文件夹: D:/Project/data/Project_CodeNet_Python800\\p03078\n"
     ]
    },
    {
     "name": "stderr",
     "output_type": "stream",
     "text": [
      "100%|██████████| 300/300 [00:00<00:00, 3895.58it/s]\n"
     ]
    },
    {
     "name": "stdout",
     "output_type": "stream",
     "text": [
      "文件夹 D:/Project/data/Project_CodeNet_Python800\\p03078 中加载了 300 个文档。\n",
      "正在处理文件夹: D:/Project/data/Project_CodeNet_Python800\\p03478\n"
     ]
    },
    {
     "name": "stderr",
     "output_type": "stream",
     "text": [
      "100%|██████████| 300/300 [00:00<00:00, 4025.84it/s]\n"
     ]
    },
    {
     "name": "stdout",
     "output_type": "stream",
     "text": [
      "文件夹 D:/Project/data/Project_CodeNet_Python800\\p03478 中加载了 300 个文档。\n",
      "正在处理文件夹: D:/Project/data/Project_CodeNet_Python800\\p03106\n"
     ]
    },
    {
     "name": "stderr",
     "output_type": "stream",
     "text": [
      "100%|██████████| 300/300 [00:00<00:00, 3920.92it/s]\n"
     ]
    },
    {
     "name": "stdout",
     "output_type": "stream",
     "text": [
      "文件夹 D:/Project/data/Project_CodeNet_Python800\\p03106 中加载了 300 个文档。\n",
      "正在处理文件夹: D:/Project/data/Project_CodeNet_Python800\\p02918\n"
     ]
    },
    {
     "name": "stderr",
     "output_type": "stream",
     "text": [
      "100%|██████████| 300/300 [00:00<00:00, 3223.93it/s]\n"
     ]
    },
    {
     "name": "stdout",
     "output_type": "stream",
     "text": [
      "文件夹 D:/Project/data/Project_CodeNet_Python800\\p02918 中加载了 300 个文档。\n",
      "正在处理文件夹: D:/Project/data/Project_CodeNet_Python800\\p02601\n"
     ]
    },
    {
     "name": "stderr",
     "output_type": "stream",
     "text": [
      "100%|██████████| 300/300 [00:00<00:00, 3950.15it/s]\n"
     ]
    },
    {
     "name": "stdout",
     "output_type": "stream",
     "text": [
      "文件夹 D:/Project/data/Project_CodeNet_Python800\\p02601 中加载了 300 个文档。\n",
      "正在处理文件夹: D:/Project/data/Project_CodeNet_Python800\\p02765\n"
     ]
    },
    {
     "name": "stderr",
     "output_type": "stream",
     "text": [
      "100%|██████████| 300/300 [00:00<00:00, 4054.06it/s]\n"
     ]
    },
    {
     "name": "stdout",
     "output_type": "stream",
     "text": [
      "文件夹 D:/Project/data/Project_CodeNet_Python800\\p02765 中加载了 300 个文档。\n",
      "正在处理文件夹: D:/Project/data/Project_CodeNet_Python800\\p02771\n"
     ]
    },
    {
     "name": "stderr",
     "output_type": "stream",
     "text": [
      "100%|██████████| 300/300 [00:00<00:00, 1586.85it/s]\n"
     ]
    },
    {
     "name": "stdout",
     "output_type": "stream",
     "text": [
      "文件夹 D:/Project/data/Project_CodeNet_Python800\\p02771 中加载了 300 个文档。\n",
      "正在处理文件夹: D:/Project/data/Project_CodeNet_Python800\\p02639\n"
     ]
    },
    {
     "name": "stderr",
     "output_type": "stream",
     "text": [
      "100%|██████████| 300/300 [00:00<00:00, 4054.20it/s]\n"
     ]
    },
    {
     "name": "stdout",
     "output_type": "stream",
     "text": [
      "文件夹 D:/Project/data/Project_CodeNet_Python800\\p02639 中加载了 300 个文档。\n",
      "正在处理文件夹: D:/Project/data/Project_CodeNet_Python800\\p03733\n"
     ]
    },
    {
     "name": "stderr",
     "output_type": "stream",
     "text": [
      "100%|██████████| 300/300 [00:00<00:00, 4000.12it/s]\n"
     ]
    },
    {
     "name": "stdout",
     "output_type": "stream",
     "text": [
      "文件夹 D:/Project/data/Project_CodeNet_Python800\\p03733 中加载了 300 个文档。\n",
      "正在处理文件夹: D:/Project/data/Project_CodeNet_Python800\\p02863\n"
     ]
    },
    {
     "name": "stderr",
     "output_type": "stream",
     "text": [
      "100%|██████████| 300/300 [00:00<00:00, 3658.68it/s]\n"
     ]
    },
    {
     "name": "stdout",
     "output_type": "stream",
     "text": [
      "文件夹 D:/Project/data/Project_CodeNet_Python800\\p02863 中加载了 303 个文档。\n",
      "正在处理文件夹: D:/Project/data/Project_CodeNet_Python800\\p03834\n"
     ]
    },
    {
     "name": "stderr",
     "output_type": "stream",
     "text": [
      "100%|██████████| 300/300 [00:00<00:00, 4025.13it/s]\n"
     ]
    },
    {
     "name": "stdout",
     "output_type": "stream",
     "text": [
      "文件夹 D:/Project/data/Project_CodeNet_Python800\\p03834 中加载了 300 个文档。\n",
      "正在处理文件夹: D:/Project/data/Project_CodeNet_Python800\\p02396\n"
     ]
    },
    {
     "name": "stderr",
     "output_type": "stream",
     "text": [
      "100%|██████████| 300/300 [00:00<00:00, 4042.24it/s]\n"
     ]
    },
    {
     "name": "stdout",
     "output_type": "stream",
     "text": [
      "文件夹 D:/Project/data/Project_CodeNet_Python800\\p02396 中加载了 300 个文档。\n",
      "正在处理文件夹: D:/Project/data/Project_CodeNet_Python800\\p03378\n"
     ]
    },
    {
     "name": "stderr",
     "output_type": "stream",
     "text": [
      "100%|██████████| 300/300 [00:00<00:00, 3896.22it/s]\n"
     ]
    },
    {
     "name": "stdout",
     "output_type": "stream",
     "text": [
      "文件夹 D:/Project/data/Project_CodeNet_Python800\\p03378 中加载了 300 个文档。\n",
      "正在处理文件夹: D:/Project/data/Project_CodeNet_Python800\\p03361\n"
     ]
    },
    {
     "name": "stderr",
     "output_type": "stream",
     "text": [
      "100%|██████████| 300/300 [00:00<00:00, 3998.55it/s]\n"
     ]
    },
    {
     "name": "stdout",
     "output_type": "stream",
     "text": [
      "文件夹 D:/Project/data/Project_CodeNet_Python800\\p03361 中加载了 300 个文档。\n",
      "正在处理文件夹: D:/Project/data/Project_CodeNet_Python800\\p04029\n"
     ]
    },
    {
     "name": "stderr",
     "output_type": "stream",
     "text": [
      "100%|██████████| 300/300 [00:00<00:00, 4078.04it/s]\n"
     ]
    },
    {
     "name": "stdout",
     "output_type": "stream",
     "text": [
      "文件夹 D:/Project/data/Project_CodeNet_Python800\\p04029 中加载了 300 个文档。\n",
      "正在处理文件夹: D:/Project/data/Project_CodeNet_Python800\\p02379\n"
     ]
    },
    {
     "name": "stderr",
     "output_type": "stream",
     "text": [
      "100%|██████████| 300/300 [00:00<00:00, 3156.10it/s]\n"
     ]
    },
    {
     "name": "stdout",
     "output_type": "stream",
     "text": [
      "文件夹 D:/Project/data/Project_CodeNet_Python800\\p02379 中加载了 300 个文档。\n",
      "正在处理文件夹: D:/Project/data/Project_CodeNet_Python800\\p02958\n"
     ]
    },
    {
     "name": "stderr",
     "output_type": "stream",
     "text": [
      "100%|██████████| 300/300 [00:00<00:00, 3915.80it/s]\n"
     ]
    },
    {
     "name": "stdout",
     "output_type": "stream",
     "text": [
      "文件夹 D:/Project/data/Project_CodeNet_Python800\\p02958 中加载了 300 个文档。\n",
      "正在处理文件夹: D:/Project/data/Project_CodeNet_Python800\\p03738\n"
     ]
    },
    {
     "name": "stderr",
     "output_type": "stream",
     "text": [
      "100%|██████████| 300/300 [00:00<00:00, 4054.13it/s]\n"
     ]
    },
    {
     "name": "stdout",
     "output_type": "stream",
     "text": [
      "文件夹 D:/Project/data/Project_CodeNet_Python800\\p03738 中加载了 300 个文档。\n",
      "正在处理文件夹: D:/Project/data/Project_CodeNet_Python800\\p03573\n"
     ]
    },
    {
     "name": "stderr",
     "output_type": "stream",
     "text": [
      "100%|██████████| 300/300 [00:00<00:00, 3972.91it/s]\n"
     ]
    },
    {
     "name": "stdout",
     "output_type": "stream",
     "text": [
      "文件夹 D:/Project/data/Project_CodeNet_Python800\\p03573 中加载了 300 个文档。\n",
      "正在处理文件夹: D:/Project/data/Project_CodeNet_Python800\\p03695\n"
     ]
    },
    {
     "name": "stderr",
     "output_type": "stream",
     "text": [
      "100%|██████████| 300/300 [00:00<00:00, 3487.86it/s]\n"
     ]
    },
    {
     "name": "stdout",
     "output_type": "stream",
     "text": [
      "文件夹 D:/Project/data/Project_CodeNet_Python800\\p03695 中加载了 300 个文档。\n",
      "正在处理文件夹: D:/Project/data/Project_CodeNet_Python800\\p03418\n"
     ]
    },
    {
     "name": "stderr",
     "output_type": "stream",
     "text": [
      "100%|██████████| 300/300 [00:00<00:00, 4054.22it/s]\n"
     ]
    },
    {
     "name": "stdout",
     "output_type": "stream",
     "text": [
      "文件夹 D:/Project/data/Project_CodeNet_Python800\\p03418 中加载了 300 个文档。\n",
      "正在处理文件夹: D:/Project/data/Project_CodeNet_Python800\\p03003\n"
     ]
    },
    {
     "name": "stderr",
     "output_type": "stream",
     "text": [
      "100%|██████████| 300/300 [00:00<00:00, 3784.25it/s]\n"
     ]
    },
    {
     "name": "stdout",
     "output_type": "stream",
     "text": [
      "文件夹 D:/Project/data/Project_CodeNet_Python800\\p03003 中加载了 300 个文档。\n",
      "正在处理文件夹: D:/Project/data/Project_CodeNet_Python800\\p02763\n"
     ]
    },
    {
     "name": "stderr",
     "output_type": "stream",
     "text": [
      "100%|██████████| 300/300 [00:00<00:00, 3846.16it/s]\n"
     ]
    },
    {
     "name": "stdout",
     "output_type": "stream",
     "text": [
      "文件夹 D:/Project/data/Project_CodeNet_Python800\\p02763 中加载了 300 个文档。\n",
      "正在处理文件夹: D:/Project/data/Project_CodeNet_Python800\\p02793\n"
     ]
    },
    {
     "name": "stderr",
     "output_type": "stream",
     "text": [
      "100%|██████████| 300/300 [00:00<00:00, 3896.19it/s]\n"
     ]
    },
    {
     "name": "stdout",
     "output_type": "stream",
     "text": [
      "文件夹 D:/Project/data/Project_CodeNet_Python800\\p02793 中加载了 300 个文档。\n",
      "正在处理文件夹: D:/Project/data/Project_CodeNet_Python800\\p03329\n"
     ]
    },
    {
     "name": "stderr",
     "output_type": "stream",
     "text": [
      "100%|██████████| 300/300 [00:00<00:00, 4054.36it/s]\n"
     ]
    },
    {
     "name": "stdout",
     "output_type": "stream",
     "text": [
      "文件夹 D:/Project/data/Project_CodeNet_Python800\\p03329 中加载了 300 个文档。\n",
      "正在处理文件夹: D:/Project/data/Project_CodeNet_Python800\\p03103\n"
     ]
    },
    {
     "name": "stderr",
     "output_type": "stream",
     "text": [
      "100%|██████████| 300/300 [00:00<00:00, 3846.33it/s]\n"
     ]
    },
    {
     "name": "stdout",
     "output_type": "stream",
     "text": [
      "文件夹 D:/Project/data/Project_CodeNet_Python800\\p03103 中加载了 300 个文档。\n",
      "正在处理文件夹: D:/Project/data/Project_CodeNet_Python800\\p03721\n"
     ]
    },
    {
     "name": "stderr",
     "output_type": "stream",
     "text": [
      "100%|██████████| 300/300 [00:00<00:00, 3277.19it/s]\n"
     ]
    },
    {
     "name": "stdout",
     "output_type": "stream",
     "text": [
      "文件夹 D:/Project/data/Project_CodeNet_Python800\\p03721 中加载了 300 个文档。\n",
      "正在处理文件夹: D:/Project/data/Project_CodeNet_Python800\\p02401\n"
     ]
    },
    {
     "name": "stderr",
     "output_type": "stream",
     "text": [
      "100%|██████████| 300/300 [00:00<00:00, 3868.32it/s]\n"
     ]
    },
    {
     "name": "stdout",
     "output_type": "stream",
     "text": [
      "文件夹 D:/Project/data/Project_CodeNet_Python800\\p02401 中加载了 300 个文档。\n",
      "正在处理文件夹: D:/Project/data/Project_CodeNet_Python800\\p03380\n"
     ]
    },
    {
     "name": "stderr",
     "output_type": "stream",
     "text": [
      "100%|██████████| 300/300 [00:00<00:00, 4080.88it/s]\n"
     ]
    },
    {
     "name": "stdout",
     "output_type": "stream",
     "text": [
      "文件夹 D:/Project/data/Project_CodeNet_Python800\\p03380 中加载了 300 个文档。\n",
      "正在处理文件夹: D:/Project/data/Project_CodeNet_Python800\\p03773\n"
     ]
    },
    {
     "name": "stderr",
     "output_type": "stream",
     "text": [
      "100%|██████████| 300/300 [00:00<00:00, 3796.94it/s]\n"
     ]
    },
    {
     "name": "stdout",
     "output_type": "stream",
     "text": [
      "文件夹 D:/Project/data/Project_CodeNet_Python800\\p03773 中加载了 300 个文档。\n",
      "正在处理文件夹: D:/Project/data/Project_CodeNet_Python800\\p03696\n"
     ]
    },
    {
     "name": "stderr",
     "output_type": "stream",
     "text": [
      "100%|██████████| 300/300 [00:00<00:00, 3947.15it/s]\n"
     ]
    },
    {
     "name": "stdout",
     "output_type": "stream",
     "text": [
      "文件夹 D:/Project/data/Project_CodeNet_Python800\\p03696 中加载了 300 个文档。\n",
      "正在处理文件夹: D:/Project/data/Project_CodeNet_Python800\\p03331\n"
     ]
    },
    {
     "name": "stderr",
     "output_type": "stream",
     "text": [
      "100%|██████████| 300/300 [00:00<00:00, 3731.72it/s]\n"
     ]
    },
    {
     "name": "stdout",
     "output_type": "stream",
     "text": [
      "文件夹 D:/Project/data/Project_CodeNet_Python800\\p03331 中加载了 300 个文档。\n",
      "正在处理文件夹: D:/Project/data/Project_CodeNet_Python800\\p02624\n"
     ]
    },
    {
     "name": "stderr",
     "output_type": "stream",
     "text": [
      "100%|██████████| 300/300 [00:00<00:00, 3946.07it/s]\n"
     ]
    },
    {
     "name": "stdout",
     "output_type": "stream",
     "text": [
      "文件夹 D:/Project/data/Project_CodeNet_Python800\\p02624 中加载了 300 个文档。\n",
      "正在处理文件夹: D:/Project/data/Project_CodeNet_Python800\\p03775\n"
     ]
    },
    {
     "name": "stderr",
     "output_type": "stream",
     "text": [
      "100%|██████████| 300/300 [00:00<00:00, 3805.88it/s]\n"
     ]
    },
    {
     "name": "stdout",
     "output_type": "stream",
     "text": [
      "文件夹 D:/Project/data/Project_CodeNet_Python800\\p03775 中加载了 300 个文档。\n",
      "正在处理文件夹: D:/Project/data/Project_CodeNet_Python800\\p03272\n"
     ]
    },
    {
     "name": "stderr",
     "output_type": "stream",
     "text": [
      "100%|██████████| 300/300 [00:00<00:00, 4024.95it/s]\n"
     ]
    },
    {
     "name": "stdout",
     "output_type": "stream",
     "text": [
      "文件夹 D:/Project/data/Project_CodeNet_Python800\\p03272 中加载了 300 个文档。\n",
      "正在处理文件夹: D:/Project/data/Project_CodeNet_Python800\\p02594\n"
     ]
    },
    {
     "name": "stderr",
     "output_type": "stream",
     "text": [
      "100%|██████████| 300/300 [00:00<00:00, 4035.65it/s]\n"
     ]
    },
    {
     "name": "stdout",
     "output_type": "stream",
     "text": [
      "文件夹 D:/Project/data/Project_CodeNet_Python800\\p02594 中加载了 300 个文档。\n",
      "正在处理文件夹: D:/Project/data/Project_CodeNet_Python800\\p03671\n"
     ]
    },
    {
     "name": "stderr",
     "output_type": "stream",
     "text": [
      "100%|██████████| 300/300 [00:00<00:00, 3864.36it/s]\n"
     ]
    },
    {
     "name": "stdout",
     "output_type": "stream",
     "text": [
      "文件夹 D:/Project/data/Project_CodeNet_Python800\\p03671 中加载了 300 个文档。\n",
      "正在处理文件夹: D:/Project/data/Project_CodeNet_Python800\\p03295\n"
     ]
    },
    {
     "name": "stderr",
     "output_type": "stream",
     "text": [
      "100%|██████████| 300/300 [00:00<00:00, 3257.46it/s]\n"
     ]
    },
    {
     "name": "stdout",
     "output_type": "stream",
     "text": [
      "文件夹 D:/Project/data/Project_CodeNet_Python800\\p03295 中加载了 300 个文档。\n",
      "正在处理文件夹: D:/Project/data/Project_CodeNet_Python800\\p02584\n"
     ]
    },
    {
     "name": "stderr",
     "output_type": "stream",
     "text": [
      "100%|██████████| 300/300 [00:00<00:00, 3999.50it/s]\n"
     ]
    },
    {
     "name": "stdout",
     "output_type": "stream",
     "text": [
      "文件夹 D:/Project/data/Project_CodeNet_Python800\\p02584 中加载了 300 个文档。\n",
      "正在处理文件夹: D:/Project/data/Project_CodeNet_Python800\\p03997\n"
     ]
    },
    {
     "name": "stderr",
     "output_type": "stream",
     "text": [
      "100%|██████████| 300/300 [00:00<00:00, 4109.27it/s]\n"
     ]
    },
    {
     "name": "stdout",
     "output_type": "stream",
     "text": [
      "文件夹 D:/Project/data/Project_CodeNet_Python800\\p03997 中加载了 300 个文档。\n",
      "正在处理文件夹: D:/Project/data/Project_CodeNet_Python800\\p02417\n"
     ]
    },
    {
     "name": "stderr",
     "output_type": "stream",
     "text": [
      "100%|██████████| 300/300 [00:00<00:00, 4065.01it/s]\n"
     ]
    },
    {
     "name": "stdout",
     "output_type": "stream",
     "text": [
      "文件夹 D:/Project/data/Project_CodeNet_Python800\\p02417 中加载了 300 个文档。\n",
      "正在处理文件夹: D:/Project/data/Project_CodeNet_Python800\\p02789\n"
     ]
    },
    {
     "name": "stderr",
     "output_type": "stream",
     "text": [
      "100%|██████████| 300/300 [00:00<00:00, 3999.59it/s]\n"
     ]
    },
    {
     "name": "stdout",
     "output_type": "stream",
     "text": [
      "文件夹 D:/Project/data/Project_CodeNet_Python800\\p02789 中加载了 300 个文档。\n",
      "正在处理文件夹: D:/Project/data/Project_CodeNet_Python800\\p03138\n"
     ]
    },
    {
     "name": "stderr",
     "output_type": "stream",
     "text": [
      "100%|██████████| 300/300 [00:00<00:00, 3701.83it/s]\n"
     ]
    },
    {
     "name": "stdout",
     "output_type": "stream",
     "text": [
      "文件夹 D:/Project/data/Project_CodeNet_Python800\\p03138 中加载了 300 个文档。\n",
      "正在处理文件夹: D:/Project/data/Project_CodeNet_Python800\\p02675\n"
     ]
    },
    {
     "name": "stderr",
     "output_type": "stream",
     "text": [
      "100%|██████████| 300/300 [00:00<00:00, 3844.42it/s]\n"
     ]
    },
    {
     "name": "stdout",
     "output_type": "stream",
     "text": [
      "文件夹 D:/Project/data/Project_CodeNet_Python800\\p02675 中加载了 300 个文档。\n",
      "正在处理文件夹: D:/Project/data/Project_CodeNet_Python800\\p03170\n"
     ]
    },
    {
     "name": "stderr",
     "output_type": "stream",
     "text": [
      "100%|██████████| 300/300 [00:00<00:00, 3704.17it/s]\n"
     ]
    },
    {
     "name": "stdout",
     "output_type": "stream",
     "text": [
      "文件夹 D:/Project/data/Project_CodeNet_Python800\\p03170 中加载了 300 个文档。\n",
      "正在处理文件夹: D:/Project/data/Project_CodeNet_Python800\\p02398\n"
     ]
    },
    {
     "name": "stderr",
     "output_type": "stream",
     "text": [
      "100%|██████████| 300/300 [00:00<00:00, 4053.98it/s]\n"
     ]
    },
    {
     "name": "stdout",
     "output_type": "stream",
     "text": [
      "文件夹 D:/Project/data/Project_CodeNet_Python800\\p02398 中加载了 300 个文档。\n",
      "正在处理文件夹: D:/Project/data/Project_CodeNet_Python800\\p02795\n"
     ]
    },
    {
     "name": "stderr",
     "output_type": "stream",
     "text": [
      "100%|██████████| 300/300 [00:00<00:00, 3785.06it/s]\n"
     ]
    },
    {
     "name": "stdout",
     "output_type": "stream",
     "text": [
      "文件夹 D:/Project/data/Project_CodeNet_Python800\\p02795 中加载了 300 个文档。\n",
      "正在处理文件夹: D:/Project/data/Project_CodeNet_Python800\\p02550\n"
     ]
    },
    {
     "name": "stderr",
     "output_type": "stream",
     "text": [
      "100%|██████████| 300/300 [00:00<00:00, 4079.85it/s]\n"
     ]
    },
    {
     "name": "stdout",
     "output_type": "stream",
     "text": [
      "文件夹 D:/Project/data/Project_CodeNet_Python800\\p02550 中加载了 300 个文档。\n",
      "正在处理文件夹: D:/Project/data/Project_CodeNet_Python800\\p02646\n"
     ]
    },
    {
     "name": "stderr",
     "output_type": "stream",
     "text": [
      "100%|██████████| 300/300 [00:00<00:00, 4053.42it/s]\n"
     ]
    },
    {
     "name": "stdout",
     "output_type": "stream",
     "text": [
      "文件夹 D:/Project/data/Project_CodeNet_Python800\\p02646 中加载了 300 个文档。\n",
      "正在处理文件夹: D:/Project/data/Project_CodeNet_Python800\\p03402\n"
     ]
    },
    {
     "name": "stderr",
     "output_type": "stream",
     "text": [
      "100%|██████████| 300/300 [00:00<00:00, 3999.18it/s]\n"
     ]
    },
    {
     "name": "stdout",
     "output_type": "stream",
     "text": [
      "文件夹 D:/Project/data/Project_CodeNet_Python800\\p03402 中加载了 300 个文档。\n",
      "正在处理文件夹: D:/Project/data/Project_CodeNet_Python800\\p03372\n"
     ]
    },
    {
     "name": "stderr",
     "output_type": "stream",
     "text": [
      "100%|██████████| 300/300 [00:00<00:00, 3448.38it/s]\n"
     ]
    },
    {
     "name": "stdout",
     "output_type": "stream",
     "text": [
      "文件夹 D:/Project/data/Project_CodeNet_Python800\\p03372 中加载了 300 个文档。\n",
      "正在处理文件夹: D:/Project/data/Project_CodeNet_Python800\\p03732\n"
     ]
    },
    {
     "name": "stderr",
     "output_type": "stream",
     "text": [
      "100%|██████████| 300/300 [00:00<00:00, 4046.75it/s]\n"
     ]
    },
    {
     "name": "stdout",
     "output_type": "stream",
     "text": [
      "文件夹 D:/Project/data/Project_CodeNet_Python800\\p03732 中加载了 300 个文档。\n",
      "正在处理文件夹: D:/Project/data/Project_CodeNet_Python800\\p03060\n"
     ]
    },
    {
     "name": "stderr",
     "output_type": "stream",
     "text": [
      "100%|██████████| 300/300 [00:00<00:00, 4053.60it/s]\n"
     ]
    },
    {
     "name": "stdout",
     "output_type": "stream",
     "text": [
      "文件夹 D:/Project/data/Project_CodeNet_Python800\\p03060 中加载了 300 个文档。\n",
      "正在处理文件夹: D:/Project/data/Project_CodeNet_Python800\\p04047\n"
     ]
    },
    {
     "name": "stderr",
     "output_type": "stream",
     "text": [
      "100%|██████████| 300/300 [00:00<00:00, 3910.93it/s]\n"
     ]
    },
    {
     "name": "stdout",
     "output_type": "stream",
     "text": [
      "文件夹 D:/Project/data/Project_CodeNet_Python800\\p04047 中加载了 300 个文档。\n",
      "正在处理文件夹: D:/Project/data/Project_CodeNet_Python800\\p02392\n"
     ]
    },
    {
     "name": "stderr",
     "output_type": "stream",
     "text": [
      "100%|██████████| 300/300 [00:00<00:00, 4166.04it/s]\n"
     ]
    },
    {
     "name": "stdout",
     "output_type": "stream",
     "text": [
      "文件夹 D:/Project/data/Project_CodeNet_Python800\\p02392 中加载了 300 个文档。\n",
      "正在处理文件夹: D:/Project/data/Project_CodeNet_Python800\\p02885\n"
     ]
    },
    {
     "name": "stderr",
     "output_type": "stream",
     "text": [
      "100%|██████████| 300/300 [00:00<00:00, 4109.73it/s]\n"
     ]
    },
    {
     "name": "stdout",
     "output_type": "stream",
     "text": [
      "文件夹 D:/Project/data/Project_CodeNet_Python800\\p02885 中加载了 300 个文档。\n",
      "正在处理文件夹: D:/Project/data/Project_CodeNet_Python800\\p02845\n"
     ]
    },
    {
     "name": "stderr",
     "output_type": "stream",
     "text": [
      "100%|██████████| 300/300 [00:00<00:00, 4048.31it/s]\n"
     ]
    },
    {
     "name": "stdout",
     "output_type": "stream",
     "text": [
      "文件夹 D:/Project/data/Project_CodeNet_Python800\\p02845 中加载了 300 个文档。\n",
      "正在处理文件夹: D:/Project/data/Project_CodeNet_Python800\\p03853\n"
     ]
    },
    {
     "name": "stderr",
     "output_type": "stream",
     "text": [
      "100%|██████████| 300/300 [00:00<00:00, 4054.23it/s]\n"
     ]
    },
    {
     "name": "stdout",
     "output_type": "stream",
     "text": [
      "文件夹 D:/Project/data/Project_CodeNet_Python800\\p03853 中加载了 300 个文档。\n",
      "正在处理文件夹: D:/Project/data/Project_CodeNet_Python800\\p02927\n"
     ]
    },
    {
     "name": "stderr",
     "output_type": "stream",
     "text": [
      "100%|██████████| 300/300 [00:00<00:00, 4138.35it/s]\n"
     ]
    },
    {
     "name": "stdout",
     "output_type": "stream",
     "text": [
      "文件夹 D:/Project/data/Project_CodeNet_Python800\\p02927 中加载了 300 个文档。\n",
      "正在处理文件夹: D:/Project/data/Project_CodeNet_Python800\\p03127\n"
     ]
    },
    {
     "name": "stderr",
     "output_type": "stream",
     "text": [
      "100%|██████████| 300/300 [00:00<00:00, 4194.39it/s]\n"
     ]
    },
    {
     "name": "stdout",
     "output_type": "stream",
     "text": [
      "文件夹 D:/Project/data/Project_CodeNet_Python800\\p03127 中加载了 300 个文档。\n",
      "正在处理文件夹: D:/Project/data/Project_CodeNet_Python800\\p03607\n"
     ]
    },
    {
     "name": "stderr",
     "output_type": "stream",
     "text": [
      "100%|██████████| 300/300 [00:00<00:00, 3971.80it/s]\n"
     ]
    },
    {
     "name": "stdout",
     "output_type": "stream",
     "text": [
      "文件夹 D:/Project/data/Project_CodeNet_Python800\\p03607 中加载了 300 个文档。\n",
      "正在处理文件夹: D:/Project/data/Project_CodeNet_Python800\\p02716\n"
     ]
    },
    {
     "name": "stderr",
     "output_type": "stream",
     "text": [
      "100%|██████████| 300/300 [00:00<00:00, 3894.00it/s]\n"
     ]
    },
    {
     "name": "stdout",
     "output_type": "stream",
     "text": [
      "文件夹 D:/Project/data/Project_CodeNet_Python800\\p02716 中加载了 300 个文档。\n",
      "正在处理文件夹: D:/Project/data/Project_CodeNet_Python800\\p02271\n"
     ]
    },
    {
     "name": "stderr",
     "output_type": "stream",
     "text": [
      "100%|██████████| 300/300 [00:00<00:00, 4052.02it/s]\n"
     ]
    },
    {
     "name": "stdout",
     "output_type": "stream",
     "text": [
      "文件夹 D:/Project/data/Project_CodeNet_Python800\\p02271 中加载了 300 个文档。\n",
      "正在处理文件夹: D:/Project/data/Project_CodeNet_Python800\\p03612\n"
     ]
    },
    {
     "name": "stderr",
     "output_type": "stream",
     "text": [
      "100%|██████████| 300/300 [00:00<00:00, 4111.70it/s]\n"
     ]
    },
    {
     "name": "stdout",
     "output_type": "stream",
     "text": [
      "文件夹 D:/Project/data/Project_CodeNet_Python800\\p03612 中加载了 300 个文档。\n",
      "正在处理文件夹: D:/Project/data/Project_CodeNet_Python800\\p03000\n"
     ]
    },
    {
     "name": "stderr",
     "output_type": "stream",
     "text": [
      "100%|██████████| 300/300 [00:00<00:00, 4109.58it/s]\n"
     ]
    },
    {
     "name": "stdout",
     "output_type": "stream",
     "text": [
      "文件夹 D:/Project/data/Project_CodeNet_Python800\\p03000 中加载了 300 个文档。\n",
      "正在处理文件夹: D:/Project/data/Project_CodeNet_Python800\\p03239\n"
     ]
    },
    {
     "name": "stderr",
     "output_type": "stream",
     "text": [
      "100%|██████████| 300/300 [00:00<00:00, 4109.03it/s]\n"
     ]
    },
    {
     "name": "stdout",
     "output_type": "stream",
     "text": [
      "文件夹 D:/Project/data/Project_CodeNet_Python800\\p03239 中加载了 300 个文档。\n",
      "正在处理文件夹: D:/Project/data/Project_CodeNet_Python800\\p03197\n"
     ]
    },
    {
     "name": "stderr",
     "output_type": "stream",
     "text": [
      "100%|██████████| 300/300 [00:00<00:00, 4134.94it/s]\n"
     ]
    },
    {
     "name": "stdout",
     "output_type": "stream",
     "text": [
      "文件夹 D:/Project/data/Project_CodeNet_Python800\\p03197 中加载了 300 个文档。\n",
      "正在处理文件夹: D:/Project/data/Project_CodeNet_Python800\\p03806\n"
     ]
    },
    {
     "name": "stderr",
     "output_type": "stream",
     "text": [
      "100%|██████████| 300/300 [00:00<00:00, 4098.56it/s]\n"
     ]
    },
    {
     "name": "stdout",
     "output_type": "stream",
     "text": [
      "文件夹 D:/Project/data/Project_CodeNet_Python800\\p03806 中加载了 300 个文档。\n",
      "正在处理文件夹: D:/Project/data/Project_CodeNet_Python800\\p03213\n"
     ]
    },
    {
     "name": "stderr",
     "output_type": "stream",
     "text": [
      "100%|██████████| 300/300 [00:00<00:00, 3292.52it/s]\n"
     ]
    },
    {
     "name": "stdout",
     "output_type": "stream",
     "text": [
      "文件夹 D:/Project/data/Project_CodeNet_Python800\\p03213 中加载了 300 个文档。\n",
      "正在处理文件夹: D:/Project/data/Project_CodeNet_Python800\\p03400\n"
     ]
    },
    {
     "name": "stderr",
     "output_type": "stream",
     "text": [
      "100%|██████████| 300/300 [00:00<00:00, 1595.67it/s]\n"
     ]
    },
    {
     "name": "stdout",
     "output_type": "stream",
     "text": [
      "文件夹 D:/Project/data/Project_CodeNet_Python800\\p03400 中加载了 300 个文档。\n",
      "正在处理文件夹: D:/Project/data/Project_CodeNet_Python800\\p03291\n"
     ]
    },
    {
     "name": "stderr",
     "output_type": "stream",
     "text": [
      "100%|██████████| 300/300 [00:00<00:00, 4053.59it/s]\n"
     ]
    },
    {
     "name": "stdout",
     "output_type": "stream",
     "text": [
      "文件夹 D:/Project/data/Project_CodeNet_Python800\\p03291 中加载了 300 个文档。\n",
      "正在处理文件夹: D:/Project/data/Project_CodeNet_Python800\\p03206\n"
     ]
    },
    {
     "name": "stderr",
     "output_type": "stream",
     "text": [
      "100%|██████████| 300/300 [00:00<00:00, 4075.16it/s]\n"
     ]
    },
    {
     "name": "stdout",
     "output_type": "stream",
     "text": [
      "文件夹 D:/Project/data/Project_CodeNet_Python800\\p03206 中加载了 300 个文档。\n",
      "正在处理文件夹: D:/Project/data/Project_CodeNet_Python800\\p03087\n"
     ]
    },
    {
     "name": "stderr",
     "output_type": "stream",
     "text": [
      "100%|██████████| 300/300 [00:00<00:00, 4109.14it/s]\n"
     ]
    },
    {
     "name": "stdout",
     "output_type": "stream",
     "text": [
      "文件夹 D:/Project/data/Project_CodeNet_Python800\\p03087 中加载了 300 个文档。\n",
      "正在处理文件夹: D:/Project/data/Project_CodeNet_Python800\\p03139\n"
     ]
    },
    {
     "name": "stderr",
     "output_type": "stream",
     "text": [
      "100%|██████████| 300/300 [00:00<00:00, 3528.87it/s]\n"
     ]
    },
    {
     "name": "stdout",
     "output_type": "stream",
     "text": [
      "文件夹 D:/Project/data/Project_CodeNet_Python800\\p03139 中加载了 300 个文档。\n",
      "正在处理文件夹: D:/Project/data/Project_CodeNet_Python800\\p03042\n"
     ]
    },
    {
     "name": "stderr",
     "output_type": "stream",
     "text": [
      "100%|██████████| 300/300 [00:00<00:00, 3996.95it/s]\n"
     ]
    },
    {
     "name": "stdout",
     "output_type": "stream",
     "text": [
      "文件夹 D:/Project/data/Project_CodeNet_Python800\\p03042 中加载了 300 个文档。\n",
      "正在处理文件夹: D:/Project/data/Project_CodeNet_Python800\\p03730\n"
     ]
    },
    {
     "name": "stderr",
     "output_type": "stream",
     "text": [
      "100%|██████████| 300/300 [00:00<00:00, 3786.43it/s]\n"
     ]
    },
    {
     "name": "stdout",
     "output_type": "stream",
     "text": [
      "文件夹 D:/Project/data/Project_CodeNet_Python800\\p03730 中加载了 300 个文档。\n",
      "正在处理文件夹: D:/Project/data/Project_CodeNet_Python800\\p02860\n"
     ]
    },
    {
     "name": "stderr",
     "output_type": "stream",
     "text": [
      "100%|██████████| 300/300 [00:00<00:00, 4084.34it/s]\n"
     ]
    },
    {
     "name": "stdout",
     "output_type": "stream",
     "text": [
      "文件夹 D:/Project/data/Project_CodeNet_Python800\\p02860 中加载了 300 个文档。\n",
      "正在处理文件夹: D:/Project/data/Project_CodeNet_Python800\\p03472\n"
     ]
    },
    {
     "name": "stderr",
     "output_type": "stream",
     "text": [
      "100%|██████████| 300/300 [00:00<00:00, 3942.50it/s]\n"
     ]
    },
    {
     "name": "stdout",
     "output_type": "stream",
     "text": [
      "文件夹 D:/Project/data/Project_CodeNet_Python800\\p03472 中加载了 300 个文档。\n",
      "正在处理文件夹: D:/Project/data/Project_CodeNet_Python800\\p02598\n"
     ]
    },
    {
     "name": "stderr",
     "output_type": "stream",
     "text": [
      "100%|██████████| 300/300 [00:00<00:00, 4109.08it/s]\n"
     ]
    },
    {
     "name": "stdout",
     "output_type": "stream",
     "text": [
      "文件夹 D:/Project/data/Project_CodeNet_Python800\\p02598 中加载了 300 个文档。\n",
      "正在处理文件夹: D:/Project/data/Project_CodeNet_Python800\\p03860\n"
     ]
    },
    {
     "name": "stderr",
     "output_type": "stream",
     "text": [
      "100%|██████████| 300/300 [00:00<00:00, 4109.03it/s]\n"
     ]
    },
    {
     "name": "stdout",
     "output_type": "stream",
     "text": [
      "文件夹 D:/Project/data/Project_CodeNet_Python800\\p03860 中加载了 300 个文档。\n",
      "正在处理文件夹: D:/Project/data/Project_CodeNet_Python800\\p03699\n"
     ]
    },
    {
     "name": "stderr",
     "output_type": "stream",
     "text": [
      "100%|██████████| 300/300 [00:00<00:00, 4166.78it/s]\n"
     ]
    },
    {
     "name": "stdout",
     "output_type": "stream",
     "text": [
      "文件夹 D:/Project/data/Project_CodeNet_Python800\\p03699 中加载了 300 个文档。\n",
      "正在处理文件夹: D:/Project/data/Project_CodeNet_Python800\\p03210\n"
     ]
    },
    {
     "name": "stderr",
     "output_type": "stream",
     "text": [
      "100%|██████████| 300/300 [00:00<00:00, 4166.69it/s]\n"
     ]
    },
    {
     "name": "stdout",
     "output_type": "stream",
     "text": [
      "文件夹 D:/Project/data/Project_CodeNet_Python800\\p03210 中加载了 300 个文档。\n",
      "正在处理文件夹: D:/Project/data/Project_CodeNet_Python800\\p03845\n"
     ]
    },
    {
     "name": "stderr",
     "output_type": "stream",
     "text": [
      "100%|██████████| 300/300 [00:00<00:00, 4054.03it/s]\n"
     ]
    },
    {
     "name": "stdout",
     "output_type": "stream",
     "text": [
      "文件夹 D:/Project/data/Project_CodeNet_Python800\\p03845 中加载了 300 个文档。\n",
      "正在处理文件夹: D:/Project/data/Project_CodeNet_Python800\\p02733\n"
     ]
    },
    {
     "name": "stderr",
     "output_type": "stream",
     "text": [
      "100%|██████████| 300/300 [00:00<00:00, 3947.57it/s]\n"
     ]
    },
    {
     "name": "stdout",
     "output_type": "stream",
     "text": [
      "文件夹 D:/Project/data/Project_CodeNet_Python800\\p02733 中加载了 300 个文档。\n",
      "正在处理文件夹: D:/Project/data/Project_CodeNet_Python800\\p04043\n"
     ]
    },
    {
     "name": "stderr",
     "output_type": "stream",
     "text": [
      "100%|██████████| 300/300 [00:00<00:00, 4166.61it/s]\n"
     ]
    },
    {
     "name": "stdout",
     "output_type": "stream",
     "text": [
      "文件夹 D:/Project/data/Project_CodeNet_Python800\\p04043 中加载了 300 个文档。\n",
      "正在处理文件夹: D:/Project/data/Project_CodeNet_Python800\\p03284\n"
     ]
    },
    {
     "name": "stderr",
     "output_type": "stream",
     "text": [
      "100%|██████████| 300/300 [00:00<00:00, 4000.05it/s]\n"
     ]
    },
    {
     "name": "stdout",
     "output_type": "stream",
     "text": [
      "文件夹 D:/Project/data/Project_CodeNet_Python800\\p03284 中加载了 300 个文档。\n",
      "正在处理文件夹: D:/Project/data/Project_CodeNet_Python800\\p03854\n"
     ]
    },
    {
     "name": "stderr",
     "output_type": "stream",
     "text": [
      "100%|██████████| 300/300 [00:00<00:00, 3590.59it/s]\n"
     ]
    },
    {
     "name": "stdout",
     "output_type": "stream",
     "text": [
      "文件夹 D:/Project/data/Project_CodeNet_Python800\\p03854 中加载了 300 个文档。\n",
      "正在处理文件夹: D:/Project/data/Project_CodeNet_Python800\\p03186\n"
     ]
    },
    {
     "name": "stderr",
     "output_type": "stream",
     "text": [
      "100%|██████████| 300/300 [00:00<00:00, 3724.76it/s]\n"
     ]
    },
    {
     "name": "stdout",
     "output_type": "stream",
     "text": [
      "文件夹 D:/Project/data/Project_CodeNet_Python800\\p03186 中加载了 300 个文档。\n",
      "正在处理文件夹: D:/Project/data/Project_CodeNet_Python800\\p03068\n"
     ]
    },
    {
     "name": "stderr",
     "output_type": "stream",
     "text": [
      "100%|██████████| 300/300 [00:00<00:00, 4118.74it/s]\n"
     ]
    },
    {
     "name": "stdout",
     "output_type": "stream",
     "text": [
      "文件夹 D:/Project/data/Project_CodeNet_Python800\\p03068 中加载了 300 个文档。\n",
      "正在处理文件夹: D:/Project/data/Project_CodeNet_Python800\\p02415\n"
     ]
    },
    {
     "name": "stderr",
     "output_type": "stream",
     "text": [
      "100%|██████████| 300/300 [00:00<00:00, 4166.25it/s]\n"
     ]
    },
    {
     "name": "stdout",
     "output_type": "stream",
     "text": [
      "文件夹 D:/Project/data/Project_CodeNet_Python800\\p02415 中加载了 300 个文档。\n",
      "正在处理文件夹: D:/Project/data/Project_CodeNet_Python800\\p02419\n"
     ]
    },
    {
     "name": "stderr",
     "output_type": "stream",
     "text": [
      "100%|██████████| 300/300 [00:00<00:00, 4166.21it/s]\n"
     ]
    },
    {
     "name": "stdout",
     "output_type": "stream",
     "text": [
      "文件夹 D:/Project/data/Project_CodeNet_Python800\\p02419 中加载了 300 个文档。\n",
      "正在处理文件夹: D:/Project/data/Project_CodeNet_Python800\\p03128\n"
     ]
    },
    {
     "name": "stderr",
     "output_type": "stream",
     "text": [
      "100%|██████████| 300/300 [00:00<00:00, 4054.35it/s]\n"
     ]
    },
    {
     "name": "stdout",
     "output_type": "stream",
     "text": [
      "文件夹 D:/Project/data/Project_CodeNet_Python800\\p03128 中加载了 300 个文档。\n",
      "正在处理文件夹: D:/Project/data/Project_CodeNet_Python800\\p02787\n"
     ]
    },
    {
     "name": "stderr",
     "output_type": "stream",
     "text": [
      "100%|██████████| 300/300 [00:00<00:00, 4053.37it/s]\n"
     ]
    },
    {
     "name": "stdout",
     "output_type": "stream",
     "text": [
      "文件夹 D:/Project/data/Project_CodeNet_Python800\\p02787 中加载了 300 个文档。\n",
      "正在处理文件夹: D:/Project/data/Project_CodeNet_Python800\\p03377\n"
     ]
    },
    {
     "name": "stderr",
     "output_type": "stream",
     "text": [
      "100%|██████████| 300/300 [00:00<00:00, 4087.18it/s]\n"
     ]
    },
    {
     "name": "stdout",
     "output_type": "stream",
     "text": [
      "文件夹 D:/Project/data/Project_CodeNet_Python800\\p03377 中加载了 300 个文档。\n",
      "正在处理文件夹: D:/Project/data/Project_CodeNet_Python800\\p02844\n"
     ]
    },
    {
     "name": "stderr",
     "output_type": "stream",
     "text": [
      "100%|██████████| 300/300 [00:00<00:00, 4025.31it/s]\n"
     ]
    },
    {
     "name": "stdout",
     "output_type": "stream",
     "text": [
      "文件夹 D:/Project/data/Project_CodeNet_Python800\\p02844 中加载了 300 个文档。\n",
      "正在处理文件夹: D:/Project/data/Project_CodeNet_Python800\\p02641\n"
     ]
    },
    {
     "name": "stderr",
     "output_type": "stream",
     "text": [
      "100%|██████████| 300/300 [00:00<00:00, 4109.58it/s]\n"
     ]
    },
    {
     "name": "stdout",
     "output_type": "stream",
     "text": [
      "文件夹 D:/Project/data/Project_CodeNet_Python800\\p02641 中加载了 300 个文档。\n",
      "正在处理文件夹: D:/Project/data/Project_CodeNet_Python800\\p02879\n"
     ]
    },
    {
     "name": "stderr",
     "output_type": "stream",
     "text": [
      "100%|██████████| 300/300 [00:00<00:00, 4075.67it/s]\n"
     ]
    },
    {
     "name": "stdout",
     "output_type": "stream",
     "text": [
      "文件夹 D:/Project/data/Project_CodeNet_Python800\\p02879 中加载了 300 个文档。\n",
      "正在处理文件夹: D:/Project/data/Project_CodeNet_Python800\\p02414\n"
     ]
    },
    {
     "name": "stderr",
     "output_type": "stream",
     "text": [
      "100%|██████████| 300/300 [00:00<00:00, 3957.38it/s]\n"
     ]
    },
    {
     "name": "stdout",
     "output_type": "stream",
     "text": [
      "文件夹 D:/Project/data/Project_CodeNet_Python800\\p02414 中加载了 300 个文档。\n",
      "正在处理文件夹: D:/Project/data/Project_CodeNet_Python800\\p02735\n"
     ]
    },
    {
     "name": "stderr",
     "output_type": "stream",
     "text": [
      "100%|██████████| 300/300 [00:00<00:00, 4025.99it/s]\n"
     ]
    },
    {
     "name": "stdout",
     "output_type": "stream",
     "text": [
      "文件夹 D:/Project/data/Project_CodeNet_Python800\\p02735 中加载了 300 个文档。\n",
      "正在处理文件夹: D:/Project/data/Project_CodeNet_Python800\\p03548\n"
     ]
    },
    {
     "name": "stderr",
     "output_type": "stream",
     "text": [
      "100%|██████████| 300/300 [00:00<00:00, 4053.41it/s]\n"
     ]
    },
    {
     "name": "stdout",
     "output_type": "stream",
     "text": [
      "文件夹 D:/Project/data/Project_CodeNet_Python800\\p03548 中加载了 300 个文档。\n",
      "正在处理文件夹: D:/Project/data/Project_CodeNet_Python800\\p03161\n"
     ]
    },
    {
     "name": "stderr",
     "output_type": "stream",
     "text": [
      "100%|██████████| 300/300 [00:00<00:00, 4109.19it/s]\n"
     ]
    },
    {
     "name": "stdout",
     "output_type": "stream",
     "text": [
      "文件夹 D:/Project/data/Project_CodeNet_Python800\\p03161 中加载了 300 个文档。\n",
      "正在处理文件夹: D:/Project/data/Project_CodeNet_Python800\\p03207\n"
     ]
    },
    {
     "name": "stderr",
     "output_type": "stream",
     "text": [
      "100%|██████████| 300/300 [00:00<00:00, 3846.23it/s]\n"
     ]
    },
    {
     "name": "stdout",
     "output_type": "stream",
     "text": [
      "文件夹 D:/Project/data/Project_CodeNet_Python800\\p03207 中加载了 300 个文档。\n",
      "正在处理文件夹: D:/Project/data/Project_CodeNet_Python800\\p03722\n"
     ]
    },
    {
     "name": "stderr",
     "output_type": "stream",
     "text": [
      "100%|██████████| 300/300 [00:00<00:00, 3999.84it/s]\n"
     ]
    },
    {
     "name": "stdout",
     "output_type": "stream",
     "text": [
      "文件夹 D:/Project/data/Project_CodeNet_Python800\\p03722 中加载了 300 个文档。\n",
      "正在处理文件夹: D:/Project/data/Project_CodeNet_Python800\\p02881\n"
     ]
    },
    {
     "name": "stderr",
     "output_type": "stream",
     "text": [
      "100%|██████████| 300/300 [00:00<00:00, 3409.24it/s]\n"
     ]
    },
    {
     "name": "stdout",
     "output_type": "stream",
     "text": [
      "文件夹 D:/Project/data/Project_CodeNet_Python800\\p02881 中加载了 300 个文档。\n",
      "正在处理文件夹: D:/Project/data/Project_CodeNet_Python800\\p03260\n"
     ]
    },
    {
     "name": "stderr",
     "output_type": "stream",
     "text": [
      "100%|██████████| 300/300 [00:00<00:00, 4108.95it/s]\n"
     ]
    },
    {
     "name": "stdout",
     "output_type": "stream",
     "text": [
      "文件夹 D:/Project/data/Project_CodeNet_Python800\\p03260 中加载了 300 个文档。\n",
      "正在处理文件夹: D:/Project/data/Project_CodeNet_Python800\\p02991\n"
     ]
    },
    {
     "name": "stderr",
     "output_type": "stream",
     "text": [
      "100%|██████████| 300/300 [00:00<00:00, 4000.48it/s]\n"
     ]
    },
    {
     "name": "stdout",
     "output_type": "stream",
     "text": [
      "文件夹 D:/Project/data/Project_CodeNet_Python800\\p02991 中加载了 300 个文档。\n",
      "正在处理文件夹: D:/Project/data/Project_CodeNet_Python800\\p03597\n"
     ]
    },
    {
     "name": "stderr",
     "output_type": "stream",
     "text": [
      "100%|██████████| 300/300 [00:00<00:00, 4102.48it/s]\n"
     ]
    },
    {
     "name": "stdout",
     "output_type": "stream",
     "text": [
      "文件夹 D:/Project/data/Project_CodeNet_Python800\\p03597 中加载了 300 个文档。\n",
      "正在处理文件夹: D:/Project/data/Project_CodeNet_Python800\\p03015\n"
     ]
    },
    {
     "name": "stderr",
     "output_type": "stream",
     "text": [
      "100%|██████████| 300/300 [00:00<00:00, 4054.27it/s]\n"
     ]
    },
    {
     "name": "stdout",
     "output_type": "stream",
     "text": [
      "文件夹 D:/Project/data/Project_CodeNet_Python800\\p03015 中加载了 300 个文档。\n",
      "正在处理文件夹: D:/Project/data/Project_CodeNet_Python800\\p03700\n"
     ]
    },
    {
     "name": "stderr",
     "output_type": "stream",
     "text": [
      "100%|██████████| 300/300 [00:00<00:00, 4105.01it/s]\n"
     ]
    },
    {
     "name": "stdout",
     "output_type": "stream",
     "text": [
      "文件夹 D:/Project/data/Project_CodeNet_Python800\\p03700 中加载了 300 个文档。\n",
      "正在处理文件夹: D:/Project/data/Project_CodeNet_Python800\\p03135\n"
     ]
    },
    {
     "name": "stderr",
     "output_type": "stream",
     "text": [
      "100%|██████████| 300/300 [00:00<00:00, 4166.55it/s]\n"
     ]
    },
    {
     "name": "stdout",
     "output_type": "stream",
     "text": [
      "文件夹 D:/Project/data/Project_CodeNet_Python800\\p03135 中加载了 300 个文档。\n",
      "正在处理文件夹: D:/Project/data/Project_CodeNet_Python800\\p03964\n"
     ]
    },
    {
     "name": "stderr",
     "output_type": "stream",
     "text": [
      "100%|██████████| 300/300 [00:00<00:00, 4166.80it/s]\n"
     ]
    },
    {
     "name": "stdout",
     "output_type": "stream",
     "text": [
      "文件夹 D:/Project/data/Project_CodeNet_Python800\\p03964 中加载了 300 个文档。\n",
      "正在处理文件夹: D:/Project/data/Project_CodeNet_Python800\\p03495\n"
     ]
    },
    {
     "name": "stderr",
     "output_type": "stream",
     "text": [
      "100%|██████████| 300/300 [00:00<00:00, 4166.79it/s]\n"
     ]
    },
    {
     "name": "stdout",
     "output_type": "stream",
     "text": [
      "文件夹 D:/Project/data/Project_CodeNet_Python800\\p03495 中加载了 300 个文档。\n",
      "正在处理文件夹: D:/Project/data/Project_CodeNet_Python800\\p02629\n"
     ]
    },
    {
     "name": "stderr",
     "output_type": "stream",
     "text": [
      "100%|██████████| 300/300 [00:00<00:00, 4109.74it/s]\n"
     ]
    },
    {
     "name": "stdout",
     "output_type": "stream",
     "text": [
      "文件夹 D:/Project/data/Project_CodeNet_Python800\\p02629 中加载了 300 个文档。\n",
      "正在处理文件夹: D:/Project/data/Project_CodeNet_Python800\\p03337\n"
     ]
    },
    {
     "name": "stderr",
     "output_type": "stream",
     "text": [
      "100%|██████████| 300/300 [00:00<00:00, 3999.69it/s]\n"
     ]
    },
    {
     "name": "stdout",
     "output_type": "stream",
     "text": [
      "文件夹 D:/Project/data/Project_CodeNet_Python800\\p03337 中加载了 300 个文档。\n",
      "正在处理文件夹: D:/Project/data/Project_CodeNet_Python800\\p02388\n"
     ]
    },
    {
     "name": "stderr",
     "output_type": "stream",
     "text": [
      "100%|██████████| 300/300 [00:00<00:00, 4109.74it/s]\n"
     ]
    },
    {
     "name": "stdout",
     "output_type": "stream",
     "text": [
      "文件夹 D:/Project/data/Project_CodeNet_Python800\\p02388 中加载了 300 个文档。\n",
      "正在处理文件夹: D:/Project/data/Project_CodeNet_Python800\\p03150\n"
     ]
    },
    {
     "name": "stderr",
     "output_type": "stream",
     "text": [
      "100%|██████████| 300/300 [00:00<00:00, 3797.79it/s]"
     ]
    },
    {
     "name": "stdout",
     "output_type": "stream",
     "text": [
      "文件夹 D:/Project/data/Project_CodeNet_Python800\\p03150 中加载了 300 个文档。\n"
     ]
    },
    {
     "name": "stderr",
     "output_type": "stream",
     "text": [
      "\n"
     ]
    }
   ],
   "source": [
    "# 加载文档\n",
    "# repo_path = get_env_variable(\"Repo_Path\")+ \"/libs/core/langchain_core\" # 测试用的\n",
    "repo_path = get_env_variable(\"Python_Path\")\n",
    "\n",
    "# 获取所有子文件夹\n",
    "subfolders = [os.path.join(repo_path, f) for f in os.listdir(repo_path) if os.path.isdir(os.path.join(repo_path, f))]\n",
    "total_subfolders = len(subfolders)\n",
    "print(f\"总共有 {total_subfolders} 个子文件夹。\")\n",
    "\n",
    "# 计算需要随机选取的文件夹数量，向上取整\n",
    "num_to_select = math.ceil(total_subfolders * 0.4)\n",
    "selected_subfolders = random.sample(subfolders, num_to_select)\n",
    "print(f\"随机选取了 {num_to_select} 个子文件夹进行读取。\")\n",
    "\n",
    "# 创建 GenericLoader 实例，并显示进度条\n",
    "for folder in selected_subfolders:\n",
    "    print(f\"正在处理文件夹: {folder}\")\n",
    "    loader = GenericLoader.from_filesystem(\n",
    "        path=folder,\n",
    "        glob=\"**/*\",\n",
    "        suffixes=[\".py\"],\n",
    "        exclude=[\"**/non-utf8-encoding.py\"],\n",
    "        parser=LanguageParser(language=Language.PYTHON, parser_threshold=500),  # parser_threshold: Minimum lines needed to activate parsing (0 by default).\n",
    "        show_progress=True  # 显示进度条\n",
    "    )\n",
    "    documents = list(loader.lazy_load())\n",
    "    print(f\"文件夹 {folder} 中加载了 {len(documents)} 个文档。\")\n",
    "\n",
    "# loader = GenericLoader.from_filesystem(\n",
    "#     path = repo_path,\n",
    "#     glob=\"**/*\",\n",
    "#     suffixes=[\".py\"],\n",
    "#     exclude=[\"**/non-utf8-encoding.py\"],\n",
    "#     parser=LanguageParser(language=Language.PYTHON, parser_threshold=500), # parser_threshold: Minimum lines needed to activate parsing (0 by default).\n",
    "#     show_progress=True  # 显示进度条\n",
    "# )"
   ]
  },
  {
   "cell_type": "code",
   "execution_count": 4,
   "metadata": {},
   "outputs": [
    {
     "name": "stderr",
     "output_type": "stream",
     "text": [
      "100%|██████████| 300/300 [00:00<00:00, 3881.06it/s]\n"
     ]
    },
    {
     "name": "stdout",
     "output_type": "stream",
     "text": [
      "len(document_list): 300\n",
      "系统中可用的 CPU 核心数: 12\n"
     ]
    },
    {
     "name": "stderr",
     "output_type": "stream",
     "text": [
      "Loading documents: 100%|██████████| 300/300 [00:00<00:00, 150207.85it/s]\n"
     ]
    }
   ],
   "source": [
    "# 获取文档生成器并展开\n",
    "document_list = list(loader.lazy_load())\n",
    "print(f\"len(document_list): {len(document_list)}\")\n",
    "\n",
    "\n",
    "# 并行加载文档\n",
    "documents = []\n",
    "\n",
    "# 打印 CPU 核心数\n",
    "cpu_count = os.cpu_count()\n",
    "print(f\"系统中可用的 CPU 核心数: {cpu_count}\")\n",
    "with ThreadPoolExecutor(max_workers=cpu_count) as executor:\n",
    "    futures = [executor.submit(lambda doc: doc, doc) for doc in document_list]\n",
    "    for future in tqdm(as_completed(futures), total=len(futures), desc=\"Loading documents\"):\n",
    "        documents.append(future.result())"
   ]
  },
  {
   "cell_type": "code",
   "execution_count": 5,
   "metadata": {},
   "outputs": [
    {
     "name": "stdout",
     "output_type": "stream",
     "text": [
      "303\n"
     ]
    }
   ],
   "source": [
    "# Splitter\n",
    "python_splitter = RecursiveCharacterTextSplitter.from_language(\n",
    "    language=Language.PYTHON, chunk_size=2000, chunk_overlap=200\n",
    ")\n",
    "texts = python_splitter.split_documents(documents)\n",
    "print(len(texts))"
   ]
  },
  {
   "cell_type": "code",
   "execution_count": 6,
   "metadata": {},
   "outputs": [],
   "source": [
    "# RetrievalQA\n",
    "model_path = get_env_variable(\"Local_Model_acge_text_embedding\")\n",
    "# 初始化 LocalEmbeddings 实例，使用本地模型的路径\n",
    "local_embeddings = LocalEmbeddings(\n",
    "    model_path=model_path,  # 本地模型文件的路径\n",
    ")\n",
    "# 初始化 LocalEmbeddings 实例，使用本地模型和分词器的路径\n",
    "# model_path = get_env_variable(\"Local_Model_acge_text_embedding\")\n",
    "# tokenizer_path = get_env_variable(\"Local_Tokenizer_Path\")\n",
    "# local_embeddings = LocalEmbeddings(\n",
    "#     model_path=model_path,  # 本地模型文件的路径\n",
    "#     tokenizer_path=tokenizer_path  # 本地分词器的路径\n",
    "# )"
   ]
  },
  {
   "cell_type": "code",
   "execution_count": 7,
   "metadata": {},
   "outputs": [
    {
     "name": "stdout",
     "output_type": "stream",
     "text": [
      "总批次4\n"
     ]
    },
    {
     "name": "stderr",
     "output_type": "stream",
     "text": [
      "Computing embeddings: 100%|██████████| 4/4 [00:11<00:00,  2.93s/it]"
     ]
    },
    {
     "name": "stdout",
     "output_type": "stream",
     "text": [
      "Document database created, final_db= <langchain_chroma.vectorstores.Chroma object at 0x0000025783E54130>\n"
     ]
    },
    {
     "name": "stderr",
     "output_type": "stream",
     "text": [
      "\n"
     ]
    }
   ],
   "source": [
    "# 初始化一个空的 Chroma 数据库\n",
    "final_db = Chroma(embedding_function=local_embeddings)\n",
    "\n",
    "# 定义批量计算嵌入的函数\n",
    "def compute_embeddings(batch_texts, batch_index, total_batches, progress_bar):\n",
    "    logging.debug(f\"开始处理批次 {batch_index + 1}/{total_batches}: {len(batch_texts)} 个文档\")\n",
    "    try:\n",
    "        # 使用 add_documents 方法将文档添加到 Chroma 数据库中\n",
    "        final_db.add_documents(batch_texts)\n",
    "        logging.debug(f\"处理完成批次 {batch_index + 1}/{total_batches}: {len(batch_texts)} 个文档\")\n",
    "    except Exception as e:\n",
    "        logging.error(f\"处理批次 {batch_index + 1}/{total_batches} 时出错: {e}\")\n",
    "    finally:\n",
    "        progress_bar.update(1)\n",
    "\n",
    "# 设置批处理大小\n",
    "batch_size = 100  # 批处理大小\n",
    "batches = [texts[i:i + batch_size] for i in range(0, len(texts), batch_size)]\n",
    "total_batches = len(batches)\n",
    "print(f\"总批次{total_batches}\")\n",
    "\n",
    "# 并行计算嵌入并合并结果\n",
    "with ThreadPoolExecutor(max_workers=cpu_count) as executor, tqdm(total=total_batches, desc=\"Computing embeddings\") as progress_bar:\n",
    "    futures = [executor.submit(compute_embeddings, batch, i, total_batches, progress_bar) for i, batch in enumerate(batches)]\n",
    "    for future in as_completed(futures):\n",
    "        future.result()\n",
    "\n",
    "print(\"Document database created, final_db=\", final_db)"
   ]
  },
  {
   "cell_type": "code",
   "execution_count": 9,
   "metadata": {},
   "outputs": [],
   "source": [
    "# 创建检索器，可以使用 'mmr' 或 'similarity' 检索类型\n",
    "retriever = final_db.as_retriever(\n",
    "    search_type=\"mmr\",  # 或 \"similarity\"\n",
    "    search_kwargs={\"k\": 8}  # k 表示检索的文档数量\n",
    ")"
   ]
  },
  {
   "cell_type": "code",
   "execution_count": 10,
   "metadata": {},
   "outputs": [],
   "source": [
    "# 调用chatglm\n",
    "# chatglm_api_key = get_env_variable(\"ChatGLM_API_KEY_glm4\")\n",
    "# chatglm_api_base = get_env_variable(\"ChatGLM_API_BASE\")\n",
    "# from langchain_openai import ChatOpenAI\n",
    "# llm = ChatOpenAI(\n",
    "#     temperature=0.95,\n",
    "#     model=\"glm-4\",\n",
    "#     openai_api_key=chatglm_api_key,\n",
    "#     openai_api_base=chatglm_api_base\n",
    "# )\n",
    "# 调用本地ollama\n",
    "llm = ChatOllama(\n",
    "    model=\"llama3\",\n",
    "    temperature=0.9,\n",
    "    # other params...\n",
    ")"
   ]
  },
  {
   "cell_type": "code",
   "execution_count": null,
   "metadata": {},
   "outputs": [],
   "source": [
    "# First we need a prompt that we can pass into an LLM to generate this search query\n",
    "import requests\n",
    "prompt = ChatPromptTemplate.from_messages(\n",
    "    [\n",
    "        (\"placeholder\", \"{chat_history}\"),\n",
    "        (\"user\", \"{input}\"),\n",
    "        (\n",
    "            \"user\",\n",
    "            \"Given the above conversation, generate a search query to look up to get information relevant to the conversation\",\n",
    "        ),\n",
    "    ]\n",
    ")\n",
    "retriever_chain = create_history_aware_retriever(llm, retriever, prompt)\n",
    "\n",
    "prompt = ChatPromptTemplate.from_messages(\n",
    "    [\n",
    "        (\n",
    "            \"system\",\n",
    "            \"Answer the user's questions based on the below context:\\n\\n{context}\",\n",
    "        ),\n",
    "        (\"placeholder\", \"{chat_history}\"),\n",
    "        (\"user\", \"{input}\"),\n",
    "    ]\n",
    ")\n",
    "document_chain = create_stuff_documents_chain(llm, prompt)\n",
    "\n",
    "qa = create_retrieval_chain(retriever_chain, document_chain)\n",
    "\n",
    "questions = [\n",
    "    \"What is a RunnableBinding?\",\n",
    "    \"What classes are derived from the Runnable class?\",\n",
    "    \"What one improvement do you propose in code in relation to the class hierarchy for the Runnable class?\",\n",
    "]\n",
    "\n",
    "# 示例调用方法\n",
    "def invoke_question(question):\n",
    "    try:\n",
    "        result = qa.invoke({\"input\": question})  # 这里假设 qa 是一个已经定义的对象\n",
    "        return result['answer']\n",
    "    except requests.exceptions.RequestException as e:\n",
    "        print(f\"请求错误: {e}\")\n",
    "        if e.response is not None:\n",
    "            print(f\"响应内容: {e.response.text}\")\n",
    "            print(f\"状态码: {e.response.status_code}\")\n",
    "        return None\n",
    "\n",
    "for question in questions:\n",
    "    result = invoke_question({\"input\": question})\n",
    "    print(f\"-> **Question**: {question} \\n\")\n",
    "    print(f\"**Answer**: {result['answer']} \\n\")"
   ]
  }
 ],
 "metadata": {
  "kernelspec": {
   "display_name": "RAG",
   "language": "python",
   "name": "python3"
  },
  "language_info": {
   "codemirror_mode": {
    "name": "ipython",
    "version": 3
   },
   "file_extension": ".py",
   "mimetype": "text/x-python",
   "name": "python",
   "nbconvert_exporter": "python",
   "pygments_lexer": "ipython3",
   "version": "3.9.19"
  }
 },
 "nbformat": 4,
 "nbformat_minor": 2
}
