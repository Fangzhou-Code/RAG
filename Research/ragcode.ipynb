{
 "cells": [
  {
   "cell_type": "code",
   "execution_count": 1,
   "metadata": {},
   "outputs": [
    {
     "name": "stderr",
     "output_type": "stream",
     "text": [
      "d:\\Anaconda\\envs\\RAG\\lib\\site-packages\\tqdm\\auto.py:21: TqdmWarning: IProgress not found. Please update jupyter and ipywidgets. See https://ipywidgets.readthedocs.io/en/stable/user_install.html\n",
      "  from .autonotebook import tqdm as notebook_tqdm\n"
     ]
    }
   ],
   "source": [
    "from git import Repo\n",
    "from langchain_community.document_loaders.generic import GenericLoader\n",
    "from langchain_community.document_loaders.parsers import LanguageParser\n",
    "from langchain_text_splitters import Language\n",
    "from typing import List\n",
    "from langchain_text_splitters import RecursiveCharacterTextSplitter\n",
    "from langchain_chroma import Chroma\n",
    "from langchain_openai import OpenAIEmbeddings\n",
    "from sentence_transformers import SentenceTransformer\n",
    "from LocalEmbedding import LocalEmbeddings\n",
    "from langchain.chains import create_history_aware_retriever, create_retrieval_chain\n",
    "from langchain.chains.combine_documents import create_stuff_documents_chain\n",
    "from langchain_core.prompts import ChatPromptTemplate\n",
    "from langchain_ollama import ChatOllama\n",
    "import os\n",
    "from dotenv import load_dotenv\n",
    "from concurrent.futures import ThreadPoolExecutor, as_completed\n",
    "from tqdm import tqdm\n",
    "import logging\n",
    "import random\n",
    "import math\n",
    "import requests\n",
    "\n",
    "def get_env_variable(var_name: str) -> str:\n",
    "    \"\"\"\n",
    "    获取环境变量的值，如果环境变量不存在则抛出异常\n",
    "\n",
    "    Args:\n",
    "    var_name (str): 环境变量名称\n",
    "\n",
    "    Returns:\n",
    "    str: 环境变量的值\n",
    "\n",
    "    Raises:\n",
    "    ValueError: 如果环境变量未设置\n",
    "    \"\"\"\n",
    "    value = os.getenv(var_name)\n",
    "    if value is None:\n",
    "        raise ValueError(f\"环境变量 '{var_name}' 未设置\")\n",
    "    return value\n",
    "\n",
    "# 加载.env文件中的环境变量\n",
    "load_dotenv() \n",
    "\n",
    "# 加载文档\n",
    "repo_path = get_env_variable(\"Python_Path\")"
   ]
  },
  {
   "cell_type": "code",
   "execution_count": 3,
   "metadata": {},
   "outputs": [
    {
     "name": "stdout",
     "output_type": "stream",
     "text": [
      "总共有 2 个子文件夹。\n",
      "正在处理文件夹: D:/Project/data/test\\p00000\n"
     ]
    },
    {
     "name": "stderr",
     "output_type": "stream",
     "text": [
      "100%|██████████| 300/300 [00:00<00:00, 2842.13it/s]\n"
     ]
    },
    {
     "name": "stdout",
     "output_type": "stream",
     "text": [
      "文件夹 D:/Project/data/test\\p00000 中加载了 3 个文档（总计 300 个文档中的 1.0%）。\n",
      "正在处理文件夹: D:/Project/data/test\\p00001\n"
     ]
    },
    {
     "name": "stderr",
     "output_type": "stream",
     "text": [
      "100%|██████████| 300/300 [00:00<00:00, 3896.15it/s]\n"
     ]
    },
    {
     "name": "stdout",
     "output_type": "stream",
     "text": [
      "文件夹 D:/Project/data/test\\p00001 中加载了 3 个文档（总计 300 个文档中的 1.0%）。\n",
      "总共加载了 6 个文档。\n",
      "len(document_list): 6\n",
      "系统中可用的 CPU 核心数: 12\n"
     ]
    },
    {
     "name": "stderr",
     "output_type": "stream",
     "text": [
      "Loading documents: 100%|██████████| 6/6 [00:00<?, ?it/s]\n"
     ]
    }
   ],
   "source": [
    "# 获取所有子文件夹\n",
    "subfolders = [os.path.join(repo_path, f) for f in os.listdir(repo_path) if os.path.isdir(os.path.join(repo_path, f))]\n",
    "total_subfolders = len(subfolders)\n",
    "print(f\"总共有 {total_subfolders} 个子文件夹。\")\n",
    "\n",
    "# 创建 GenericLoader 实例，并显示进度条\n",
    "documents = []\n",
    "selection_ratio = 0.01  # 可以根据需要调整\n",
    "for folder in subfolders:\n",
    "    print(f\"正在处理文件夹: {folder}\")\n",
    "    loader = GenericLoader.from_filesystem(\n",
    "        path=folder,\n",
    "        glob=\"**/*\",\n",
    "        suffixes=[\".py\"],\n",
    "        exclude=[\"**/non-utf8-encoding.py\"],\n",
    "        parser=LanguageParser(language=Language.PYTHON, parser_threshold=500),  # parser_threshold: Minimum lines needed to activate parsing (0 by default).\n",
    "        show_progress=True  # 显示进度条\n",
    "    )\n",
    "    all_documents = list(loader.lazy_load())\n",
    "    num_to_select = math.ceil(len(all_documents) * selection_ratio)\n",
    "    selected_documents = random.sample(all_documents, num_to_select)\n",
    "    documents.extend(selected_documents)\n",
    "    print(f\"文件夹 {folder} 中加载了 {len(selected_documents)} 个文档（总计 {len(all_documents)} 个文档中的 {selection_ratio*100}%）。\")\n",
    "\n",
    "print(f\"总共加载了 {len(documents)} 个文档。\")\n",
    "# 并行加载文档\n",
    "document_list = list(documents)\n",
    "print(f\"len(document_list): {len(document_list)}\")\n",
    "\n",
    "# 打印 CPU 核心数\n",
    "cpu_count = os.cpu_count()\n",
    "print(f\"系统中可用的 CPU 核心数: {cpu_count}\")\n",
    "with ThreadPoolExecutor(max_workers=cpu_count) as executor:\n",
    "    futures = [executor.submit(lambda doc: doc, doc) for doc in document_list]\n",
    "    for future in tqdm(as_completed(futures), total=len(futures), desc=\"Loading documents\"):\n",
    "        documents.append(future.result())"
   ]
  },
  {
   "cell_type": "code",
   "execution_count": 4,
   "metadata": {},
   "outputs": [
    {
     "name": "stdout",
     "output_type": "stream",
     "text": [
      "12\n"
     ]
    }
   ],
   "source": [
    "# Splitter\n",
    "python_splitter = RecursiveCharacterTextSplitter.from_language(\n",
    "    language=Language.PYTHON, chunk_size=2000, chunk_overlap=200\n",
    ")\n",
    "texts = python_splitter.split_documents(documents)\n",
    "print(len(texts))"
   ]
  },
  {
   "cell_type": "code",
   "execution_count": 5,
   "metadata": {},
   "outputs": [
    {
     "name": "stdout",
     "output_type": "stream",
     "text": [
      "总批次 1\n"
     ]
    },
    {
     "name": "stderr",
     "output_type": "stream",
     "text": [
      "Computing embeddings: 100%|██████████| 1/1 [00:01<00:00,  1.82s/it]"
     ]
    },
    {
     "name": "stdout",
     "output_type": "stream",
     "text": [
      "Document database created, final_db= <langchain_chroma.vectorstores.Chroma object at 0x000001A07A0BF460>\n"
     ]
    },
    {
     "name": "stderr",
     "output_type": "stream",
     "text": [
      "\n"
     ]
    }
   ],
   "source": [
    "# RetrievalQA\n",
    "model_path = get_env_variable(\"Local_Model_acge_text_embedding\")\n",
    "# 初始化 LocalEmbeddings 实例，使用本地模型的路径\n",
    "local_embeddings = LocalEmbeddings(\n",
    "    model_path=model_path,  # 本地模型文件的路径\n",
    ")\n",
    "\n",
    "# 初始化一个空的 Chroma 数据库\n",
    "final_db = Chroma(embedding_function=local_embeddings)\n",
    "\n",
    "# 定义批量计算嵌入的函数\n",
    "def compute_embeddings(batch_texts, batch_index, total_batches, progress_bar):\n",
    "    logging.debug(f\"开始处理批次 {batch_index + 1}/{total_batches}: {len(batch_texts)} 个文档\")\n",
    "    try:\n",
    "        # 使用 add_documents 方法将文档添加到 Chroma 数据库中\n",
    "        final_db.add_documents(batch_texts)\n",
    "        logging.debug(f\"处理完成批次 {batch_index + 1}/{total_batches}: {len(batch_texts)} 个文档\")\n",
    "    except Exception as e:\n",
    "        logging.error(f\"处理批次 {batch_index + 1}/{total_batches} 时出错: {e}\")\n",
    "    finally:\n",
    "        progress_bar.update(1)\n",
    "\n",
    "# 设置批处理大小\n",
    "batch_size = 100  # 批处理大小\n",
    "batches = [texts[i:i + batch_size] for i in range(0, len(texts), batch_size)]\n",
    "total_batches = len(batches)\n",
    "print(f\"总批次 {total_batches}\")\n",
    "\n",
    "# 并行计算嵌入并合并结果\n",
    "with ThreadPoolExecutor(max_workers=cpu_count) as executor, tqdm(total=total_batches, desc=\"Computing embeddings\") as progress_bar:\n",
    "    futures = [executor.submit(compute_embeddings, batch, i, total_batches, progress_bar) for i, batch in enumerate(batches)]\n",
    "    for future in as_completed(futures):\n",
    "        future.result()\n",
    "\n",
    "print(\"Document database created, final_db=\", final_db)"
   ]
  },
  {
   "cell_type": "code",
   "execution_count": 6,
   "metadata": {},
   "outputs": [
    {
     "name": "stdout",
     "output_type": "stream",
     "text": [
      "索引中的文档数量:12\n"
     ]
    }
   ],
   "source": [
    "# 获取索引中的文档数量\n",
    "num_documents_in_index = len(final_db._collection.get()[\"documents\"])\n",
    "print(f\"索引中的文档数量:{num_documents_in_index}\")\n",
    "# 创建检索器，可以使用 'mmr' 或 'similarity' 检索类型\n",
    "retriever = final_db.as_retriever(\n",
    "    search_type=\"mmr\",  # 或 \"similarity\"\n",
    "    search_kwargs={\"k\": 8, 'fetch_k': min(20, num_documents_in_index)},  # k: Amount of documents to return (Default: 4); fetch_k: Amount of documents to pass to MMR algorithm\n",
    ")\n"
   ]
  },
  {
   "cell_type": "code",
   "execution_count": 7,
   "metadata": {},
   "outputs": [],
   "source": [
    "# 调用chatglm\n",
    "# llm = ChatOllama(\n",
    "#     model=\"llama3\",\n",
    "#     temperature=0.9,\n",
    "#     # other params...\n",
    "# )\n",
    "chatglm_api_key = get_env_variable(\"ChatGLM_API_KEY_glm4\")\n",
    "chatglm_api_base = get_env_variable(\"ChatGLM_API_BASE\")\n",
    "from langchain_openai import ChatOpenAI\n",
    "llm = ChatOpenAI(\n",
    "    temperature=0.95,\n",
    "    model=\"glm-4\",\n",
    "    openai_api_key=chatglm_api_key,\n",
    "    openai_api_base=chatglm_api_base\n",
    ")"
   ]
  },
  {
   "cell_type": "code",
   "execution_count": 8,
   "metadata": {},
   "outputs": [
    {
     "name": "stdout",
     "output_type": "stream",
     "text": [
      "-> **Question**: What is a RunnableBinding? \n",
      "\n",
      "**Answer**: I'm sorry for any confusion, but \"RunnableBinding\" is not a standard term or concept within the Python programming language, nor does it seem to relate directly to the code snippets you've provided. If you're referring to something within a specific context related to those code snippets, such as a concept in Python, a module, or a part of a library, it's not clear from the provided information.\n",
      "\n",
      "However, if you're asking about the general idea of \"runnable\" or \"binding\" within the context of programming:\n",
      "\n",
      "- \"Runnable\" typically refers to something that can be executed or run, like a thread or a function that you can call to perform an action.\n",
      "- \"Binding\" usually refers to the process of associating a name (such as a variable) with an object in memory, making that name a reference to that object.\n",
      "\n",
      "If you could provide more context or clarify what you mean by \"RunnableBinding,\" I'd be happy to help with a more specific answer. \n",
      "\n",
      "-> **Question**: What classes are derived from the Runnable class? \n",
      "\n",
      "**Answer**: In Java, the `Runnable` interface is not a class but an interface, and it does not have subclasses in the traditional sense. However, any class that implements the `Runnable` interface is said to \"derive from\" or \"extend\" the functionality provided by the `Runnable` interface.\n",
      "\n",
      "The `Runnable` interface is part of the `java.lang` package and is designed to be implemented by a class whose instances are intended to be executed by a thread. It has only one method, `run`, which is called by the thread when it is started.\n",
      "\n",
      "Here's what the `Runnable` interface looks like:\n",
      "\n",
      "```java\n",
      "@FunctionalInterface\n",
      "public interface Runnable {\n",
      "    public abstract void run();\n",
      "}\n",
      "```\n",
      "\n",
      "When a class implements `Runnable`, it typically looks like this:\n",
      "\n",
      "```java\n",
      "public class MyClass implements Runnable {\n",
      "    @Override\n",
      "    public void run() {\n",
      "        // Code that the thread will execute\n",
      "    }\n",
      "}\n",
      "```\n",
      "\n",
      "So, to answer your question, there are no classes derived from `Runnable` in the sense of subclassing, but any class that needs to be executed by a thread can implement the `Runnable` interface.\n",
      "\n",
      "If you are looking for examples of classes that might implement `Runnable`, here is a simple one:\n",
      "\n",
      "```java\n",
      "public class MyRunnable implements Runnable {\n",
      "    public void run() {\n",
      "        System.out.println(\"This is run by a thread!\");\n",
      "    }\n",
      "}\n",
      "```\n",
      "\n",
      "And you can use it like this:\n",
      "\n",
      "```java\n",
      "public class Main {\n",
      "    public static void main(String[] args) {\n",
      "        MyRunnable myRunnable = new MyRunnable();\n",
      "        Thread thread = new Thread(myRunnable);\n",
      "        thread.start();\n",
      "    }\n",
      "}\n",
      "```\n",
      "\n",
      "This will create a new thread that, when started, will execute the `run` method of the `MyRunnable` instance. \n",
      "\n",
      "-> **Question**: What one improvement do you propose in code in relation to the class hierarchy for the Runnable class? \n",
      "\n",
      "**Answer**: The provided code snippets don't actually define a class hierarchy or a Runnable class. They are a collection of Python loops and input/output operations. However, if you are asking for an improvement in the context of an object-oriented design, and you are referring to a Runnable interface or class that is commonly found in languages like Java, I can provide some insight.\n",
      "\n",
      "In a Java-like environment, the Runnable interface is used to define a thread's task. If you were creating a class hierarchy related to Runnable, an improvement could be to encapsulate common behavior and promote code reuse. Here's a potential improvement suggestion:\n",
      "\n",
      "1. Create an Abstract Base Class (ABC) that implements Runnable.\n",
      "2. Include methods in the ABC that are common to all subclasses.\n",
      "3. Use subclassing to specialize behavior where needed.\n",
      "\n",
      "Here's a conceptual example of what the improvement might look like in Java:\n",
      "\n",
      "```java\n",
      "// An abstract base class implementing the Runnable interface.\n",
      "public abstract class BaseRunnableTask implements Runnable {\n",
      "    // Common behavior or properties can be defined here.\n",
      "    \n",
      "    // Example of a common method.\n",
      "    protected void logProgress(String message) {\n",
      "        System.out.println(\"Progress: \" + message);\n",
      "    }\n",
      "\n",
      "    // The abstract method that subclasses must override to implement their logic.\n",
      "    public abstract void executeTask();\n",
      "\n",
      "    // The run method from the Runnable interface which calls the abstract method.\n",
      "    @Override\n",
      "    public void run() {\n",
      "        executeTask();\n",
      "    }\n",
      "}\n",
      "\n",
      "// A concrete class that extends the BaseRunnableTask.\n",
      "public class SpecificTask extends BaseRunnableTask {\n",
      "    @Override\n",
      "    public void executeTask() {\n",
      "        // Task-specific logic here.\n",
      "        logProgress(\"Executing specific task.\");\n",
      "        // More code...\n",
      "    }\n",
      "}\n",
      "\n",
      "// Usage\n",
      "Runnable task = new SpecificTask();\n",
      "Thread thread = new Thread(task);\n",
      "thread.start();\n",
      "```\n",
      "\n",
      "In the context of Python, a similar design could be achieved using the `abc` module to define an abstract base class:\n",
      "\n",
      "```python\n",
      "from abc import ABC, abstractmethod\n",
      "import threading\n",
      "\n",
      "class BaseRunnable(ABC):\n",
      "    @abstractmethod\n",
      "    def execute_task(self):\n",
      "        pass\n",
      "\n",
      "    def run(self):\n",
      "        self.execute_task()\n",
      "\n",
      "class SpecificTask(BaseRunnable):\n",
      "    def execute_task(self):\n",
      "        print(\"Executing specific task.\")\n",
      "\n",
      "# Usage\n",
      "task = SpecificTask()\n",
      "thread = threading.Thread(target=task.run)\n",
      "thread.start()\n",
      "```\n",
      "\n",
      "In this improvement, we are promoting code reuse and ensuring that all tasks adhere to a common interface, which makes the code easier to maintain and extend in the future. This is just a general concept; the actual implementation would depend on the specific requirements of your Runnable class hierarchy. \n",
      "\n"
     ]
    }
   ],
   "source": [
    "# First we need a prompt that we can pass into an LLM to generate this search query\n",
    "prompt = ChatPromptTemplate.from_messages(\n",
    "    [\n",
    "        (\"placeholder\", \"{chat_history}\"),\n",
    "        (\"user\", \"{input}\"),\n",
    "        (\n",
    "            \"user\",\n",
    "            \"Given the above conversation, generate a search query to look up to get information relevant to the conversation\",\n",
    "        ),\n",
    "    ]\n",
    ")\n",
    "retriever_chain = create_history_aware_retriever(llm, retriever, prompt)\n",
    "\n",
    "prompt = ChatPromptTemplate.from_messages(\n",
    "    [\n",
    "        (\n",
    "            \"system\",\n",
    "            \"Answer the user's questions based on the below context:\\n\\n{context}\",\n",
    "        ),\n",
    "        (\"placeholder\", \"{chat_history}\"),\n",
    "        (\"user\", \"{input}\"),\n",
    "    ]\n",
    ")\n",
    "document_chain = create_stuff_documents_chain(llm, prompt)\n",
    "\n",
    "qa = create_retrieval_chain(retriever_chain, document_chain)\n",
    "\n",
    "questions = [\n",
    "    \"What is a RunnableBinding?\",\n",
    "    \"What classes are derived from the Runnable class?\",\n",
    "    \"What one improvement do you propose in code in relation to the class hierarchy for the Runnable class?\",\n",
    "]\n",
    "\n",
    "\n",
    "\n",
    "# 示例调用方法\n",
    "def invoke_question(question):\n",
    "    try:\n",
    "        result = qa.invoke({\"input\": question})  # 这里假设 qa 是一个已经定义的对象\n",
    "        return result\n",
    "    except requests.exceptions.RequestException as e:\n",
    "        print(f\"请求错误: {e}\")\n",
    "        if e.response is not None:\n",
    "            print(f\"响应内容: {e.response.text}\")\n",
    "            print(f\"状态码: {e.response.status_code}\")\n",
    "        return None\n",
    "\n",
    "qa_results = []\n",
    "for question in questions:\n",
    "    result = invoke_question(question)\n",
    "    if result:\n",
    "        print(f\"-> **Question**: {question} \\n\")\n",
    "        print(f\"**Answer**: {result['answer']} \\n\")\n",
    "        qa_results.append({\"question\": question, \"answer\": result['answer']})\n",
    "    else:\n",
    "        print(f\"-> **Question**: {question} \\n\")\n",
    "        print(\"**Answer**: 无法获取答案，发生错误。\\n\")\n",
    "        qa_results.append({\"question\": question, \"answer\": \"无法获取答案，发生错误。\"})\n"
   ]
  },
  {
   "cell_type": "code",
   "execution_count": 9,
   "metadata": {},
   "outputs": [],
   "source": [
    "import json\n",
    "with open(\"../result/qa_results.json\", \"w\", encoding='utf-8') as f:\n",
    "    json.dump(qa_results, f, ensure_ascii=False, indent=4)"
   ]
  }
 ],
 "metadata": {
  "kernelspec": {
   "display_name": "RAG",
   "language": "python",
   "name": "python3"
  },
  "language_info": {
   "codemirror_mode": {
    "name": "ipython",
    "version": 3
   },
   "file_extension": ".py",
   "mimetype": "text/x-python",
   "name": "python",
   "nbconvert_exporter": "python",
   "pygments_lexer": "ipython3",
   "version": "3.9.19"
  }
 },
 "nbformat": 4,
 "nbformat_minor": 2
}
